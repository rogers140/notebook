{
 "cells": [
  {
   "cell_type": "code",
   "execution_count": 1,
   "metadata": {
    "collapsed": true
   },
   "outputs": [],
   "source": [
    "%reload_ext autoreload\n",
    "%autoreload 2\n",
    "\n",
    "import os\n",
    "import argparse\n",
    "import sys\n",
    "from time import time\n",
    "\n",
    "sys.path.append(os.path.join(os.environ['GORDON_REPO_DIR'], 'utilities'))\n",
    "from utilities2015 import *\n",
    "\n",
    "from matplotlib.path import Path\n",
    "%matplotlib inline\n",
    "\n",
    "import scipy\n",
    "from sklearn import svm\n",
    "from sklearn.metrics import confusion_matrix\n",
    "from multiprocessing import Pool\n",
    "\n",
    "import random"
   ]
  },
  {
   "cell_type": "code",
   "execution_count": 2,
   "metadata": {
    "collapsed": true
   },
   "outputs": [],
   "source": [
    "hisDir = '/oasis/projects/nsf/csd395/ruogu/svm3/histogram/';\n",
    "labels = ['5N', '7n', '7N', '12N', 'Gr', 'LVe', 'Pn', 'SuVe', 'VLL' , 'BackG'];"
   ]
  },
  {
   "cell_type": "code",
   "execution_count": 3,
   "metadata": {
    "collapsed": true
   },
   "outputs": [],
   "source": [
    "# Prepare training data\n",
    "fileNames = os.listdir(hisDir);\n",
    "Background = [np.load(hisDir + f) for f in fileNames if 'surround' in f];\n",
    "NonBg = [(np.load(hisDir + f), labels.index(f[:-4])) for f in fileNames if 'surround' not in f];"
   ]
  },
  {
   "cell_type": "code",
   "execution_count": 5,
   "metadata": {
    "collapsed": false
   },
   "outputs": [
    {
     "name": "stdout",
     "output_type": "stream",
     "text": [
      "1000\n",
      "9939\n",
      "9939\n"
     ]
    }
   ],
   "source": [
    "X = [];\n",
    "y = [];\n",
    "for data in NonBg:\n",
    "    label = data[1];\n",
    "    for i in range(0, data[0].shape[0]):\n",
    "        X.append(data[0][i]);\n",
    "        y.append(label);\n",
    "\n",
    "bg = [];\n",
    "for data in Background:\n",
    "    for i in range(0, data.shape[0]):\n",
    "        bg.append(data[i]);\n",
    "bg = random.sample(bg, 1000);\n",
    "print len(bg);\n",
    "\n",
    "X = X + bg;\n",
    "y = y + ([labels.index('BackG')] * 1000);\n",
    "print len(X);\n",
    "print len(y);"
   ]
  },
  {
   "cell_type": "code",
   "execution_count": 6,
   "metadata": {
    "collapsed": false
   },
   "outputs": [],
   "source": [
    "X = np.asarray(X);\n",
    "y = np.asarray(y);\n",
    "raw_data = zip(X, y);\n",
    "random.shuffle(raw_data);"
   ]
  },
  {
   "cell_type": "code",
   "execution_count": 7,
   "metadata": {
    "collapsed": true
   },
   "outputs": [],
   "source": [
    "quota = 0.8;\n",
    "n_training = int(len(raw_data)*quota);\n",
    "n_testing = len(raw_data) - n_training;"
   ]
  },
  {
   "cell_type": "code",
   "execution_count": 8,
   "metadata": {
    "collapsed": false
   },
   "outputs": [],
   "source": [
    "training_X = np.asarray([x[0] for x in raw_data[:n_training]]);\n",
    "training_y = np.asarray([x[1] for x in raw_data[:n_training]]);\n",
    "testing_X = np.asarray([x[0] for x in raw_data[n_training:]]);\n",
    "testing_y = np.asarray([x[1] for x in raw_data[n_training:]]);"
   ]
  },
  {
   "cell_type": "code",
   "execution_count": 10,
   "metadata": {
    "collapsed": false
   },
   "outputs": [
    {
     "name": "stdout",
     "output_type": "stream",
     "text": [
      "Kernel calculation takes 600.084917068 sec.\n"
     ]
    }
   ],
   "source": [
    "# Train in parallel.\n",
    "def train_job(i):\n",
    "    xi = training_X[i];\n",
    "    his = 0.5 * np.sum(training_X + xi - np.abs(training_X - xi), axis=1); # Equals to min(xi, xj)\n",
    "    return (i, his);\n",
    "\n",
    "start = time();\n",
    "pool = Pool(processes=16); # This is a compution-heavy work, so we can have more process, like 15.\n",
    "result_train = pool.map(train_job, range(0, n_training));\n",
    "end = time();\n",
    "print \"Kernel calculation takes {} sec.\".format(end - start);"
   ]
  },
  {
   "cell_type": "code",
   "execution_count": 11,
   "metadata": {
    "collapsed": true
   },
   "outputs": [],
   "source": [
    "sorted(result_train, key=lambda x: x[0]);\n",
    "myKernel = np.asarray([v[1] for v in result_train]);\n",
    "myKernel = myKernel.reshape(n_training, n_training);"
   ]
  },
  {
   "cell_type": "code",
   "execution_count": 12,
   "metadata": {
    "collapsed": true
   },
   "outputs": [],
   "source": [
    "# Train SVM\n",
    "clf = svm.SVC(kernel=\"precomputed\", decision_function_shape='ovr');\n",
    "clf.fit(myKernel, training_y);"
   ]
  },
  {
   "cell_type": "code",
   "execution_count": 13,
   "metadata": {
    "collapsed": false
   },
   "outputs": [
    {
     "name": "stdout",
     "output_type": "stream",
     "text": [
      "Training accuracy: 0.68230411269\n"
     ]
    }
   ],
   "source": [
    "# Training accuracy\n",
    "predict_labels_train = clf.predict(myKernel);\n",
    "n_correct_train = 0;\n",
    "for i in range(n_training):\n",
    "    if predict_labels_train[i] == training_y[i]:\n",
    "        n_correct_train += 1;\n",
    "print \"Training accuracy: {}\".format(1.0*n_correct_train / n_training);"
   ]
  },
  {
   "cell_type": "code",
   "execution_count": 14,
   "metadata": {
    "collapsed": false
   },
   "outputs": [
    {
     "data": {
      "image/png": "[encoded data removed]",
      "text/plain": [
       "<matplotlib.figure.Figure at 0x5a2bb10>"
      ]
     },
     "metadata": {},
     "output_type": "display_data"
    }
   ],
   "source": [
    "cm_train = confusion_matrix(training_y, predict_labels_train);\n",
    "plt.figure(figsize=(6, 6));\n",
    "plt.imshow(cm_train, interpolation='nearest', cmap=plt.cm.Greys);\n",
    "plt.ylabel('actual label');\n",
    "plt.xlabel('predicted label')\n",
    "plt.title('Confusion matrix for Training Data');\n",
    "plt.colorbar();\n",
    "tick_marks = np.arange(len(labels));\n",
    "plt.xticks(tick_marks, labels, rotation=45);\n",
    "plt.yticks(tick_marks, labels);"
   ]
  },
  {
   "cell_type": "code",
   "execution_count": 16,
   "metadata": {
    "collapsed": false
   },
   "outputs": [
    {
     "name": "stdout",
     "output_type": "stream",
     "text": [
      "7026\n"
     ]
    }
   ],
   "source": [
    "print len(clf.support_);\n",
    "supp_indices = clf.support_;\n",
    "supp_vecs = training_X[clf.support_];"
   ]
  },
  {
   "cell_type": "code",
   "execution_count": 17,
   "metadata": {
    "collapsed": false
   },
   "outputs": [
    {
     "name": "stdout",
     "output_type": "stream",
     "text": [
      "Kernel calculation takes 166.407207012 sec.\n"
     ]
    }
   ],
   "source": [
    "# Testing\n",
    "def test_job(i):\n",
    "    xi = testing_X[i];\n",
    "    his = 0.5 * np.sum(training_X + xi - np.abs(training_X - xi), axis=1); # Equals to min(xi, xj)\n",
    "    return (i, his);\n",
    "\n",
    "start = time();\n",
    "pool = Pool(processes=16); # This is a compution-heavy work, so we can have more process, like 15.\n",
    "result_test = pool.map(test_job, range(0, n_testing));\n",
    "end = time();\n",
    "print \"Kernel calculation takes {} sec.\".format(end - start);"
   ]
  },
  {
   "cell_type": "code",
   "execution_count": 18,
   "metadata": {
    "collapsed": true
   },
   "outputs": [],
   "source": [
    "sorted(result_test, key=lambda x: x[0]);\n",
    "testKernel = np.asarray([v[1] for v in result_test]);\n",
    "testKernel = testKernel.reshape(n_testing, n_training);"
   ]
  },
  {
   "cell_type": "code",
   "execution_count": 19,
   "metadata": {
    "collapsed": false
   },
   "outputs": [
    {
     "name": "stdout",
     "output_type": "stream",
     "text": [
      "Test accuracy: 0.460261569416\n"
     ]
    }
   ],
   "source": [
    "predict_labels_test = clf.predict(testKernel);\n",
    "n_correct_test = 0;\n",
    "for i in range(0, n_testing):\n",
    "    if (predict_labels_test[i] == testing_y[i]):\n",
    "        n_correct_test += 1;\n",
    "print \"Test accuracy: {}\".format(1.0*n_correct_test / n_testing);"
   ]
  },
  {
   "cell_type": "code",
   "execution_count": 20,
   "metadata": {
    "collapsed": false
   },
   "outputs": [
    {
     "data": {
      "image/png": "[encoded data removed]",
      "text/plain": [
       "<matplotlib.figure.Figure at 0x563c190>"
      ]
     },
     "metadata": {},
     "output_type": "display_data"
    }
   ],
   "source": [
    "cm_test = confusion_matrix(testing_y, predict_labels_test);\n",
    "plt.figure(figsize=(6, 6));\n",
    "plt.imshow(cm_train, interpolation='nearest', cmap=plt.cm.Blues);\n",
    "plt.ylabel('actual label');\n",
    "plt.xlabel('predicted label')\n",
    "plt.title('Confusion matrix for Testing Data');\n",
    "plt.colorbar();\n",
    "tick_marks = np.arange(len(labels));\n",
    "plt.xticks(tick_marks, labels, rotation=45);\n",
    "plt.yticks(tick_marks, labels);"
   ]
  },
  {
   "cell_type": "code",
   "execution_count": 21,
   "metadata": {
    "collapsed": true
   },
   "outputs": [],
   "source": [
    "np.save('/oasis/projects/nsf/csd395/ruogu/svm3/training_X.npy', training_X);"
   ]
  },
  {
   "cell_type": "code",
   "execution_count": 22,
   "metadata": {
    "collapsed": true
   },
   "outputs": [],
   "source": [
    "import pickle\n",
    "pickle.dump(clf, open('/oasis/projects/nsf/csd395/ruogu/svm3/clf.p', 'wb'));"
   ]
  },
  {
   "cell_type": "code",
   "execution_count": null,
   "metadata": {
    "collapsed": true
   },
   "outputs": [],
   "source": []
  }
 ],
 "metadata": {
  "kernelspec": {
   "display_name": "Python 2",
   "language": "python",
   "name": "python2"
  },
  "language_info": {
   "codemirror_mode": {
    "name": "ipython",
    "version": 2
   },
   "file_extension": ".py",
   "mimetype": "text/x-python",
   "name": "python",
   "nbconvert_exporter": "python",
   "pygments_lexer": "ipython2",
   "version": "2.7.3"
  }
 },
 "nbformat": 4,
 "nbformat_minor": 0
}
