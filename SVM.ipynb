{
 "cells": [
  {
   "cell_type": "code",
   "execution_count": 209,
   "metadata": {
    "collapsed": true
   },
   "outputs": [],
   "source": [
    "%reload_ext autoreload\n",
    "%autoreload 2\n",
    "\n",
    "import os\n",
    "import argparse\n",
    "import sys\n",
    "from time import time\n",
    "import cv2\n",
    "\n",
    "from joblib import Parallel, delayed\n",
    "\n",
    "sys.path.append(os.path.join(os.environ['GORDON_REPO_DIR'], 'utilities'))\n",
    "from utilities2015 import *\n",
    "\n",
    "from matplotlib.path import Path\n",
    "%matplotlib inline\n",
    "\n",
    "import scipy.ndimage as nd\n",
    "import scipy\n",
    "\n",
    "from skimage.feature import hog\n",
    "from skimage import data, color, exposure\n",
    "from sklearn.cluster import KMeans\n",
    "from sklearn import svm\n",
    "from sklearn.metrics import confusion_matrix\n",
    "\n",
    "import random"
   ]
  },
  {
   "cell_type": "code",
   "execution_count": 210,
   "metadata": {
    "collapsed": true
   },
   "outputs": [],
   "source": [
    "X = np.load('/oasis/projects/nsf/csd395/ruogu/svm/X.npy');\n",
    "y = np.load('/oasis/projects/nsf/csd395/ruogu/svm/y.npy');"
   ]
  },
  {
   "cell_type": "code",
   "execution_count": 211,
   "metadata": {
    "collapsed": false
   },
   "outputs": [
    {
     "name": "stdout",
     "output_type": "stream",
     "text": [
      "(28571, 4200)\n",
      "(28571,)\n"
     ]
    }
   ],
   "source": [
    "print \"%s\" %(X.shape,);\n",
    "print \"%s\" %(y.shape,);"
   ]
  },
  {
   "cell_type": "code",
   "execution_count": 212,
   "metadata": {
    "collapsed": false
   },
   "outputs": [
    {
     "name": "stdout",
     "output_type": "stream",
     "text": [
      "<type 'list'>\n"
     ]
    }
   ],
   "source": [
    "raw_data = zip(X, y);\n",
    "print type(raw_data);"
   ]
  },
  {
   "cell_type": "code",
   "execution_count": 213,
   "metadata": {
    "collapsed": false
   },
   "outputs": [],
   "source": [
    "data = [];\n",
    "n_classSample = 100; # Number of samples from each class\n",
    "for i in range(0, 10):\n",
    "    data_for_class = [x for x in raw_data if x[1] == i];\n",
    "    data = data + random.sample(data_for_class, n_classSample);\n",
    "# data is a list of (ndarray, int)\n",
    "random.shuffle(data);"
   ]
  },
  {
   "cell_type": "code",
   "execution_count": 214,
   "metadata": {
    "collapsed": true
   },
   "outputs": [],
   "source": [
    "quota = 0.75;\n",
    "n_training = int(len(data) * quota);\n",
    "n_testing = len(data) - n_training;"
   ]
  },
  {
   "cell_type": "code",
   "execution_count": 215,
   "metadata": {
    "collapsed": false
   },
   "outputs": [],
   "source": [
    "training_data = data[:n_training];\n",
    "testing_data = data[n_training:];"
   ]
  },
  {
   "cell_type": "code",
   "execution_count": 216,
   "metadata": {
    "collapsed": false
   },
   "outputs": [],
   "source": [
    "training_X = np.asarray([x[0] for x in training_data]);\n",
    "training_y = np.asarray([x[1] for x in training_data]);\n",
    "testing_X = np.asarray([x[0] for x in testing_data]);\n",
    "testing_y = np.asarray([x[1] for x in testing_data]);"
   ]
  },
  {
   "cell_type": "code",
   "execution_count": 217,
   "metadata": {
    "collapsed": false
   },
   "outputs": [
    {
     "name": "stdout",
     "output_type": "stream",
     "text": [
      "Shape of training data: (750, 4200)\n",
      "Shape of training label: (750,)\n",
      "Shape of testing data: (250, 4200)\n",
      "Shape of testing label: (250,)\n"
     ]
    }
   ],
   "source": [
    "print \"Shape of training data: %s\" %(training_X.shape,);\n",
    "print \"Shape of training label: %s\" %(training_y.shape,);\n",
    "print \"Shape of testing data: %s\" %(testing_X.shape,);\n",
    "print \"Shape of testing label: %s\" %(testing_y.shape,);"
   ]
  },
  {
   "cell_type": "code",
   "execution_count": 218,
   "metadata": {
    "collapsed": false
   },
   "outputs": [],
   "source": [
    "# Calculate histogram intersection kernel\n",
    "myKernel = np.zeros(shape=(n_training, n_training));\n",
    "for i in range(0, n_training):\n",
    "    for j in range(0, n_training):\n",
    "        myKernel[i][j] = sum(np.minimum(training_X[i], training_X[j]));"
   ]
  },
  {
   "cell_type": "code",
   "execution_count": 219,
   "metadata": {
    "collapsed": false
   },
   "outputs": [
    {
     "name": "stdout",
     "output_type": "stream",
     "text": [
      "kernel shape: (750, 750)\n"
     ]
    }
   ],
   "source": [
    "print \"kernel shape: %s\" %(myKernel.shape,);"
   ]
  },
  {
   "cell_type": "code",
   "execution_count": 239,
   "metadata": {
    "collapsed": false
   },
   "outputs": [],
   "source": [
    "# Train SVM\n",
    "clf = svm.SVC(kernel=\"precomputed\");\n",
    "clf.fit(myKernel, training_y);"
   ]
  },
  {
   "cell_type": "code",
   "execution_count": 231,
   "metadata": {
    "collapsed": false
   },
   "outputs": [
    {
     "name": "stdout",
     "output_type": "stream",
     "text": [
      "Training accuracy: 0.734666666667\n"
     ]
    }
   ],
   "source": [
    "# Training accuracy\n",
    "predict_labels_train = clf.predict(myKernel);\n",
    "n_correct_train = 0;\n",
    "for i in range(len(training_data)):\n",
    "    if predict_labels_train[i] == training_y[i]:\n",
    "        n_correct_train += 1;\n",
    "print \"Training accuracy: {}\".format(1.0*n_correct_train / len(training_data));"
   ]
  },
  {
   "cell_type": "code",
   "execution_count": 232,
   "metadata": {
    "collapsed": false
   },
   "outputs": [],
   "source": [
    "cm_train = confusion_matrix(training_y, predict_labels_train);"
   ]
  },
  {
   "cell_type": "code",
   "execution_count": 233,
   "metadata": {
    "collapsed": false
   },
   "outputs": [
    {
     "data": {
      "image/png": "[encoded data removed]",
      "text/plain": [
       "<matplotlib.figure.Figure at 0x5705e90>"
      ]
     },
     "metadata": {},
     "output_type": "display_data"
    }
   ],
   "source": [
    "plt.figure(figsize=(6, 6));\n",
    "plt.imshow(cm_train, interpolation='nearest', cmap=plt.cm.Greys);\n",
    "plt.ylabel('actual label');\n",
    "plt.xlabel('predicted label')\n",
    "plt.title('Confusion matrix for Training Data');\n",
    "plt.colorbar();\n",
    "classes = ['12N', '5N', '7n', '7N', 'Gr', 'LVe', 'Pn', 'SuVe', 'VLL', 'Bg'];\n",
    "tick_marks = np.arange(len(classes));\n",
    "plt.xticks(tick_marks, classes, rotation=45);\n",
    "plt.yticks(tick_marks, classes);"
   ]
  },
  {
   "cell_type": "code",
   "execution_count": 260,
   "metadata": {
    "collapsed": true
   },
   "outputs": [],
   "source": [
    "# Test\n",
    "testKernel = np.zeros(shape=(n_testing, n_training));\n",
    "for i in range(0, n_testing):\n",
    "    for j in range(0, n_training):\n",
    "        testKernel[i][j] = sum(np.minimum(testing_X[i], training_X[j]));"
   ]
  },
  {
   "cell_type": "code",
   "execution_count": 261,
   "metadata": {
    "collapsed": false
   },
   "outputs": [
    {
     "name": "stdout",
     "output_type": "stream",
     "text": [
      "Test accuracy: 0.384\n"
     ]
    }
   ],
   "source": [
    "predict_labels_test = clf.predict(testKernel);\n",
    "n_correct_test = 0;\n",
    "for i in range(0, n_testing):\n",
    "    if (predict_labels_test[i] == testing_y[i]):\n",
    "        n_correct_test += 1;\n",
    "print \"Test accuracy: {}\".format(1.0*n_correct_test / n_testing);"
   ]
  },
  {
   "cell_type": "code",
   "execution_count": 262,
   "metadata": {
    "collapsed": true
   },
   "outputs": [],
   "source": [
    "cm_test = confusion_matrix(testing_y, predict_labels_test);"
   ]
  },
  {
   "cell_type": "code",
   "execution_count": 263,
   "metadata": {
    "collapsed": false
   },
   "outputs": [
    {
     "data": {
      "image/png": "[encoded data removed]",
      "text/plain": [
       "<matplotlib.figure.Figure at 0x53667d0>"
      ]
     },
     "metadata": {},
     "output_type": "display_data"
    }
   ],
   "source": [
    "plt.figure(figsize=(6, 6));\n",
    "plt.imshow(cm_test, interpolation='nearest', cmap=plt.cm.Blues);\n",
    "plt.ylabel('actual label');\n",
    "plt.xlabel('predicted label')\n",
    "plt.title('Confusion matrix for Testing Data');\n",
    "plt.colorbar();\n",
    "classes = ['12N', '5N', '7n', '7N', 'Gr', 'LVe', 'Pn', 'SuVe', 'VLL', 'Bg'];\n",
    "tick_marks = np.arange(len(classes));\n",
    "plt.xticks(tick_marks, classes, rotation=45);\n",
    "plt.yticks(tick_marks, classes);"
   ]
  },
  {
   "cell_type": "code",
   "execution_count": 281,
   "metadata": {
    "collapsed": false
   },
   "outputs": [],
   "source": [
    "class Classifier:\n",
    "    classes = ['12N', '5N', '7n', '7N', 'Gr', 'LVe', 'Pn', 'SuVe', 'VLL', 'Bg'];\n",
    "    def __init__(self, training_X, clf, vocabulary):\n",
    "        self.training_X = training_X;\n",
    "        self.clf = clf;\n",
    "        self.vocabulary = vocabulary;\n",
    "    \n",
    "    def generateKernel(self, test_X):\n",
    "        n_testing = test_X.shape[0];\n",
    "        n_training = self.training_X.shape[0];\n",
    "        testKernel = np.zeros(shape=(n_testing, n_training));\n",
    "        for i in range(0, n_testing):\n",
    "            for j in range(0, n_training):\n",
    "                testKernel[i][j] = sum(np.minimum(test_X[i], self.training_X[j]));\n",
    "        return testKernel;\n",
    "    \n",
    "    def getHistogram(self, image, kmeans, M, L):\n",
    "        x_size = image.shape[1]; # Column\n",
    "        y_size = image.shape[0]; # Row\n",
    "        # Get SIFT key points and descriptor.\n",
    "        sift = cv2.SIFT();\n",
    "        key_points, descriptor = sift.detectAndCompute(image, None);\n",
    "        # Map key points with type.\n",
    "        if descriptor is None:\n",
    "            return None;\n",
    "        cluster_labels = kmeans.predict(descriptor);\n",
    "        cluster_labels = cluster_labels;\n",
    "        # Generate position list of key_points\n",
    "        positions = np.asarray([kp.pt for kp in key_points], np.int)\n",
    "        # Level 0\n",
    "        weight_0 = 1.0 / (2**L);\n",
    "        histogram = np.bincount(cluster_labels, minlength = M);\n",
    "        histogram = histogram * weight_0;\n",
    "        # Other levels\n",
    "        for l in range(1, L):\n",
    "            weight = 1.0 / (2**(L - l + 1));\n",
    "            grid_size_x = x_size / (2**l);\n",
    "            grid_size_y = y_size / (2**l);\n",
    "            grid_boundaries_x = range(0, x_size, grid_size_x);\n",
    "            grid_boundaries_y = range(0, y_size, grid_size_y);\n",
    "            number_of_grid = (2**l)**2;\n",
    "            grid_crs = positions / [grid_size_x, grid_size_y];\n",
    "            grid_cols = grid_crs[:,0];  # x\n",
    "            grid_rows = grid_crs[:,1];  # y\n",
    "    \n",
    "            keypoint_grid_indices = grid_rows * (2**l) + grid_cols;\n",
    "            hists = np.zeros(shape=(number_of_grid, M), dtype=np.int);\n",
    "            for ki, label in zip(keypoint_grid_indices, cluster_labels):\n",
    "                hists[ki][label] += 1;\n",
    "            hists = hists * weight;\n",
    "            histogram = np.hstack((histogram, hists.flatten()));\n",
    "        return (histogram / len(key_points)); # Normalization\n",
    "\n",
    "    def predictLabel(self, image):\n",
    "        M = self.vocabulary.shape[0];\n",
    "        L = 3;\n",
    "        kmeans = KMeans(init='random', n_clusters=M, n_init=10);\n",
    "        kmeans.fit(self.vocabulary);\n",
    "        img = cv2.cvtColor(image, cv2.COLOR_RGB2GRAY);\n",
    "        histogram = self.getHistogram(img, kmeans, M, L);\n",
    "        if histogram is None:\n",
    "            return 'Bg';\n",
    "        testKernel = self.generateKernel(np.asarray(histogram).reshape(1, histogram.shape[0]));\n",
    "        return Classifier.classes[self.clf.predict(testKernel)[0]];"
   ]
  },
  {
   "cell_type": "code",
   "execution_count": 282,
   "metadata": {
    "collapsed": true
   },
   "outputs": [],
   "source": [
    "vocabulary = np.load('/oasis/projects/nsf/csd395/ruogu/vocabulary/vocabulary.npy');"
   ]
  },
  {
   "cell_type": "code",
   "execution_count": 283,
   "metadata": {
    "collapsed": true
   },
   "outputs": [],
   "source": [
    "myClassifier = Classifier(training_X, clf, vocabulary);"
   ]
  },
  {
   "cell_type": "code",
   "execution_count": 284,
   "metadata": {
    "collapsed": true
   },
   "outputs": [],
   "source": [
    "import pickle\n",
    "pickle.dump(myClassifier, open('/oasis/projects/nsf/csd395/ruogu/svm/classifier.p', 'wb'));"
   ]
  },
  {
   "cell_type": "code",
   "execution_count": 285,
   "metadata": {
    "collapsed": true
   },
   "outputs": [],
   "source": [
    "pickle.dump(clf, open('/oasis/projects/nsf/csd395/ruogu/svm/clf.p', 'wb'));\n",
    "np.save('/oasis/projects/nsf/csd395/ruogu/svm/training_X.npy', training_X);"
   ]
  },
  {
   "cell_type": "code",
   "execution_count": null,
   "metadata": {
    "collapsed": true
   },
   "outputs": [],
   "source": []
  }
 ],
 "metadata": {
  "kernelspec": {
   "display_name": "Python 2",
   "language": "python",
   "name": "python2"
  }
 },
 "nbformat": 4,
 "nbformat_minor": 0
}
