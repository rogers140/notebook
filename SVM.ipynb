{
 "cells": [
  {
   "cell_type": "code",
   "execution_count": 26,
   "metadata": {
    "collapsed": true
   },
   "outputs": [],
   "source": [
    "%reload_ext autoreload\n",
    "%autoreload 2\n",
    "\n",
    "import os\n",
    "import argparse\n",
    "import sys\n",
    "import time\n",
    "import cv2\n",
    "\n",
    "from joblib import Parallel, delayed\n",
    "\n",
    "sys.path.append(os.path.join(os.environ['GORDON_REPO_DIR'], 'utilities'))\n",
    "from utilities2015 import *\n",
    "\n",
    "from matplotlib.path import Path\n",
    "%matplotlib inline\n",
    "\n",
    "import scipy.ndimage as nd\n",
    "import scipy\n",
    "\n",
    "from skimage.feature import hog\n",
    "from skimage import data, color, exposure\n",
    "from sklearn.cluster import KMeans\n",
    "from sklearn import svm\n",
    "\n",
    "import random"
   ]
  },
  {
   "cell_type": "code",
   "execution_count": 55,
   "metadata": {
    "collapsed": true
   },
   "outputs": [],
   "source": [
    "X = np.load('/oasis/projects/nsf/csd395/ruogu/svm/X.npy');\n",
    "y = np.load('/oasis/projects/nsf/csd395/ruogu/svm/y.npy');"
   ]
  },
  {
   "cell_type": "code",
   "execution_count": 56,
   "metadata": {
    "collapsed": false
   },
   "outputs": [
    {
     "name": "stdout",
     "output_type": "stream",
     "text": [
      "(28571, 4200)\n",
      "(28571,)\n"
     ]
    }
   ],
   "source": [
    "print \"%s\" %(X.shape,);\n",
    "print \"%s\" %(y.shape,);"
   ]
  },
  {
   "cell_type": "code",
   "execution_count": 66,
   "metadata": {
    "collapsed": false
   },
   "outputs": [
    {
     "name": "stdout",
     "output_type": "stream",
     "text": [
      "<type 'numpy.int64'>\n"
     ]
    }
   ],
   "source": [
    "raw_data = zip(X, y);\n",
    "print type(raw_data);"
   ]
  },
  {
   "cell_type": "code",
   "execution_count": 93,
   "metadata": {
    "collapsed": false
   },
   "outputs": [],
   "source": [
    "data = [];\n",
    "for i in range(0, 10):\n",
    "    data_for_class = [x for x in raw_data if x[-1] == i];\n",
    "    data = data + random.sample(data_for_class, 100);\n",
    "# data is a list of (ndarray, int)\n",
    "random.shuffle(data);"
   ]
  },
  {
   "cell_type": "code",
   "execution_count": 94,
   "metadata": {
    "collapsed": false
   },
   "outputs": [],
   "source": [
    "training_data = data[:750];\n",
    "testing_data = data[750:];"
   ]
  },
  {
   "cell_type": "code",
   "execution_count": 105,
   "metadata": {
    "collapsed": false
   },
   "outputs": [],
   "source": [
    "training_X = np.asarray([x[0] for x in training_data]);\n",
    "training_y = np.asarray([x[1] for x in training_data]);\n",
    "testing_X = np.asarray([x[0] for x in testing_data]);\n",
    "testing_y = np.asarray([x[1] for x in testing_data]);"
   ]
  },
  {
   "cell_type": "code",
   "execution_count": 108,
   "metadata": {
    "collapsed": false
   },
   "outputs": [
    {
     "name": "stdout",
     "output_type": "stream",
     "text": [
      "Shape of training data: (750, 4200)\n",
      "Shape of training label: (750,)\n",
      "Shape of testing data: (250, 4200)\n",
      "Shape of testing label: (250,)\n"
     ]
    }
   ],
   "source": [
    "print \"Shape of training data: %s\" %(training_X.shape,);\n",
    "print \"Shape of training label: %s\" %(training_y.shape,);\n",
    "print \"Shape of testing data: %s\" %(testing_X.shape,);\n",
    "print \"Shape of testing label: %s\" %(testing_y.shape,);"
   ]
  },
  {
   "cell_type": "code",
   "execution_count": 100,
   "metadata": {
    "collapsed": false
   },
   "outputs": [],
   "source": [
    "# Calculate histogram intersection kernel\n",
    "myKernel = np.zeros(shape=(len(training_data), len(training_data)));\n",
    "for i in range(0, len(training_data)):\n",
    "    for j in range(0, len(training_data)):\n",
    "        myKernel[i][j] = sum(np.minimum(training_X[i], training_X[j]));"
   ]
  },
  {
   "cell_type": "code",
   "execution_count": 102,
   "metadata": {
    "collapsed": false
   },
   "outputs": [
    {
     "name": "stdout",
     "output_type": "stream",
     "text": [
      "kernel shape: (750, 750)\n"
     ]
    }
   ],
   "source": [
    "print \"kernel shape: %s\" %(myKernel.shape,);"
   ]
  },
  {
   "cell_type": "code",
   "execution_count": 103,
   "metadata": {
    "collapsed": false
   },
   "outputs": [],
   "source": [
    "# Train SVM\n",
    "clf = svm.SVC(kernel=\"precomputed\");\n",
    "clf.fit(myKernel, training_y);"
   ]
  },
  {
   "cell_type": "code",
   "execution_count": 119,
   "metadata": {
    "collapsed": false
   },
   "outputs": [
    {
     "name": "stdout",
     "output_type": "stream",
     "text": [
      "0.544\n"
     ]
    }
   ],
   "source": [
    "# Training accuracy\n",
    "predict_labels = clf.predict(myKernel);\n",
    "n_correct = 0;\n",
    "for i in range(len(training_data)):\n",
    "    if predict_labels[i] == training_y[i]:\n",
    "        n_correct += 1;\n",
    "print (1.0*n_correct / len(training_data));"
   ]
  },
  {
   "cell_type": "code",
   "execution_count": 110,
   "metadata": {
    "collapsed": false
   },
   "outputs": [],
   "source": [
    "# Test\n",
    "testKernel = np.zeros(shape=(len(testing_data), len(training_data)));\n",
    "for i in range(0, len(testing_data)):\n",
    "    for j in range(0, len(training_data)):\n",
    "        myKernel[i][j] = sum(np.minimum(testing_X[i], training_X[j]));"
   ]
  },
  {
   "cell_type": "code",
   "execution_count": 112,
   "metadata": {
    "collapsed": false
   },
   "outputs": [
    {
     "name": "stdout",
     "output_type": "stream",
     "text": [
      "0.096\n"
     ]
    }
   ],
   "source": [
    "confusion = np.zeros(shape=(10, 10), dtype=np.int);\n",
    "total = len(testing_data);\n",
    "n_correct = 0;\n",
    "for i in range(total):\n",
    "    confusion[predict_labels[i]][testing_y[i]] += 1;\n",
    "    if (predict_labels[i] == testing_y[i]):\n",
    "        n_correct += 1;\n",
    "print (1.0*n_correct / total);"
   ]
  },
  {
   "cell_type": "code",
   "execution_count": 122,
   "metadata": {
    "collapsed": false
   },
   "outputs": [
    {
     "data": {
      "image/png": "[encoded data removed]",
      "text/plain": [
       "<matplotlib.figure.Figure at 0x51958d0>"
      ]
     },
     "metadata": {},
     "output_type": "display_data"
    }
   ],
   "source": [
    "plt.figure(figsize=(4, 4));\n",
    "plt.imshow(confusion, cmap=plt.cm.gray);\n",
    "#plt.axis('off');\n",
    "plt.title('Confusion matrix');"
   ]
  },
  {
   "cell_type": "code",
   "execution_count": null,
   "metadata": {
    "collapsed": true
   },
   "outputs": [],
   "source": []
  }
 ],
 "metadata": {
  "kernelspec": {
   "display_name": "Python 2",
   "language": "python",
   "name": "python2"
  },
  "language_info": {
   "codemirror_mode": {
    "name": "ipython",
    "version": 2
   },
   "file_extension": ".py",
   "mimetype": "text/x-python",
   "name": "python",
   "nbconvert_exporter": "python",
   "pygments_lexer": "ipython2",
   "version": "2.7.3"
  }
 },
 "nbformat": 4,
 "nbformat_minor": 0
}
