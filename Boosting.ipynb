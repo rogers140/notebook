{
 "cells": [
  {
   "cell_type": "code",
   "execution_count": 14,
   "metadata": {
    "collapsed": true
   },
   "outputs": [],
   "source": [
    "%reload_ext autoreload\n",
    "%autoreload 2\n",
    "\n",
    "import os\n",
    "import argparse\n",
    "import sys\n",
    "from time import time\n",
    "\n",
    "sys.path.append(os.path.join(os.environ['GORDON_REPO_DIR'], 'utilities'))\n",
    "from utilities2015 import *\n",
    "\n",
    "from matplotlib.path import Path\n",
    "%matplotlib inline\n",
    "\n",
    "import scipy\n",
    "from sklearn.ensemble import AdaBoostClassifier\n",
    "from sklearn.tree import DecisionTreeClassifier\n",
    "from sklearn.metrics import confusion_matrix\n",
    "\n",
    "from sklearn.utils.estimator_checks import check_estimator\n",
    "from sklearn.base import BaseEstimator, ClassifierMixin\n",
    "from sklearn.preprocessing import normalize\n",
    "from sklearn.metrics import accuracy_score\n",
    "\n",
    "import random\n",
    "from multiprocessing import Pool"
   ]
  },
  {
   "cell_type": "code",
   "execution_count": 2,
   "metadata": {
    "collapsed": true
   },
   "outputs": [],
   "source": [
    "hisDir = '/oasis/projects/nsf/csd395/ruogu/boosting/training/';\n",
    "labels = ['BackG', '5N', '7n', '7N', '12N', 'Gr', 'LVe', 'Pn', 'SuVe', 'VLL'];\n",
    "\n",
    "fileNames = os.listdir(hisDir);\n",
    "Background = [np.load(hisDir + f) for f in fileNames if 'surround' in f];\n",
    "NonBg = [(np.load(hisDir + f), labels.index(f[:-4])) for f in fileNames if 'surround' not in f];"
   ]
  },
  {
   "cell_type": "code",
   "execution_count": 3,
   "metadata": {
    "collapsed": false
   },
   "outputs": [],
   "source": [
    "X = [];\n",
    "y = [];\n",
    "for data in NonBg:\n",
    "    label = data[1];\n",
    "    for i in range(0, data[0].shape[0]):\n",
    "        X.append(data[0][i]);\n",
    "        y.append(label);\n",
    "\n",
    "bg = [];\n",
    "for data in Background:\n",
    "    for i in range(0, data.shape[0]):\n",
    "        bg.append(data[i]);\n",
    "bg = random.sample(bg, 1000);\n",
    "\n",
    "X = X + bg;\n",
    "y = y + ([labels.index('BackG')] * 1000);"
   ]
  },
  {
   "cell_type": "code",
   "execution_count": 9,
   "metadata": {
    "collapsed": false
   },
   "outputs": [],
   "source": [
    "X = np.asarray(X);\n",
    "y = np.asarray(y);\n",
    "raw_data = zip(X, y);\n",
    "random.shuffle(raw_data);\n",
    "\n",
    "quota = 0.8;\n",
    "n_training = int(len(raw_data)*quota);\n",
    "n_testing = len(raw_data) - n_training;\n",
    "training_X = np.asarray([x[0] for x in raw_data[:n_training]]);\n",
    "training_y = np.asarray([x[1] for x in raw_data[:n_training]]);\n",
    "testing_X = np.asarray([x[0] for x in raw_data[n_training:]]);\n",
    "testing_y = np.asarray([x[1] for x in raw_data[n_training:]]);"
   ]
  },
  {
   "cell_type": "code",
   "execution_count": 34,
   "metadata": {
    "collapsed": false
   },
   "outputs": [],
   "source": [
    "# Base classifier\n",
    "class HistEstimator(BaseEstimator, ClassifierMixin):\n",
    "    def __init__(self):\n",
    "        self.prototypes = [];\n",
    "        self.classes_ = np.arange(10);\n",
    "               \n",
    "    def fit(self, X, y, sample_weight):\n",
    "        weights = np.transpose(np.tile(sample_weight, (X.shape[1], 1)));\n",
    "        X = np.multiply(X, weights);\n",
    "        for i in self.classes_:\n",
    "            xi = [data[0] for data in zip(X, y) if data[1] == i];\n",
    "            n = len(xi);\n",
    "            xi = np.asarray(xi, dtype=float);\n",
    "            xi = np.sum(xi, axis=0);\n",
    "            xi = xi / n;\n",
    "            self.prototypes.append(xi);\n",
    "        return self;\n",
    "\n",
    "    def predict(self, X):\n",
    "        # Calculate histogram intersection score (larger means more similar).\n",
    "        scores=[];\n",
    "        for i in range(0, 10):\n",
    "            score = 0.5 * np.sum(X + self.prototypes[i] - np.abs(X - self.prototypes[i]), axis=1);\n",
    "            scores.append(score);\n",
    "        scores = np.asarray(scores);\n",
    "        max_index = np.argmax(scores, axis=0);\n",
    "        return max_index;\n",
    "    \n",
    "    def predict_proba(self, X):\n",
    "        # Calculate histogram intersection score (larger means more similar).\n",
    "        scores = [];\n",
    "        for i in range(0, 10):\n",
    "            score = 0.5 * np.sum(X + self.prototypes[i] - np.abs(X - self.prototypes[i]), axis=1);\n",
    "            scores.append(score);\n",
    "        scores = np.asarray(scores);  \n",
    "        proba = np.transpose(normalize(scores, axis=0));\n",
    "        return proba;"
   ]
  },
  {
   "cell_type": "code",
   "execution_count": 35,
   "metadata": {
    "collapsed": false
   },
   "outputs": [],
   "source": [
    "# Doing base classifier test\n",
    "baseClassifier = HistEstimator();\n",
    "initial_weights = np.ones(n_training) / n_training;\n",
    "baseClassifier.fit(training_X, training_y, initial_weights);"
   ]
  },
  {
   "cell_type": "code",
   "execution_count": 36,
   "metadata": {
    "collapsed": false
   },
   "outputs": [
    {
     "name": "stdout",
     "output_type": "stream",
     "text": [
      "Base classifier training accuracy: 0.407998993837\n",
      "Base classifier testing accuracy: 0.412977867203\n"
     ]
    },
    {
     "data": {
      "image/png": "[encoded data removed]",
      "text/plain": [
       "<matplotlib.figure.Figure at 0x4dfb750>"
      ]
     },
     "metadata": {},
     "output_type": "display_data"
    }
   ],
   "source": [
    "# Training accuracy\n",
    "base_predict_train = baseClassifier.predict(training_X);\n",
    "base_n_correct_train = 0;\n",
    "for i in range(n_training):\n",
    "    if base_predict_train[i] == training_y[i]:\n",
    "        base_n_correct_train += 1;\n",
    "print \"Base classifier training accuracy: {}\".format(1.0*base_n_correct_train / n_training);\n",
    "\n",
    "# Testing accuracy\n",
    "base_predict_test = baseClassifier.predict(testing_X);\n",
    "base_n_correct_test = 0;\n",
    "\n",
    "for i in range(n_testing):\n",
    "    if base_predict_test[i] == testing_y[i]:\n",
    "        base_n_correct_test += 1;\n",
    "print \"Base classifier testing accuracy: {}\".format(1.0*base_n_correct_test / n_testing);\n",
    "\n",
    "base_cm_train = confusion_matrix(training_y, base_predict_train);\n",
    "base_cm_train = base_cm_train.astype('float') / base_cm_train.sum(axis=1)[:, np.newaxis]\n",
    "fig = plt.figure(figsize=(10, 5));\n",
    "plt.subplot(131)\n",
    "plt.imshow(base_cm_train, interpolation='nearest', cmap=plt.cm.Blues);\n",
    "plt.ylabel('actual label');\n",
    "plt.xlabel('predicted label')\n",
    "plt.title('Training');\n",
    "plt.colorbar();\n",
    "tick_marks = np.arange(len(labels));\n",
    "plt.xticks(tick_marks, labels, rotation=45, fontsize=8);\n",
    "plt.yticks(tick_marks, labels, fontsize=8);\n",
    "\n",
    "base_cm_test = confusion_matrix(testing_y, base_predict_test);\n",
    "base_cm_test = base_cm_test.astype('float') / base_cm_test.sum(axis=1)[:, np.newaxis]\n",
    "plt.subplot(133)\n",
    "plt.imshow(base_cm_test, interpolation='nearest', cmap=plt.cm.Blues);\n",
    "plt.ylabel('actual label');\n",
    "plt.xlabel('predicted label')\n",
    "plt.title('Testing');\n",
    "plt.colorbar();\n",
    "tick_marks = np.arange(len(labels));\n",
    "plt.xticks(tick_marks, labels, rotation=45, fontsize=8);\n",
    "plt.yticks(tick_marks, labels, fontsize=8);"
   ]
  },
  {
   "cell_type": "code",
   "execution_count": 63,
   "metadata": {
    "collapsed": false
   },
   "outputs": [],
   "source": [
    "# Apply base classifier to ada boost\n",
    "bst_base = AdaBoostClassifier(\n",
    "    HistEstimator(),\n",
    "    n_estimators=600,\n",
    "    learning_rate=1.5,\n",
    "    algorithm='SAMME');"
   ]
  },
  {
   "cell_type": "code",
   "execution_count": 64,
   "metadata": {
    "collapsed": false
   },
   "outputs": [
    {
     "name": "stdout",
     "output_type": "stream",
     "text": [
      "AdaBoosting Training time: 310.446108818\n"
     ]
    }
   ],
   "source": [
    "t = time();\n",
    "bst_base.fit(training_X, training_y);\n",
    "print \"AdaBoosting Training time: {}\".format(time() - t);"
   ]
  },
  {
   "cell_type": "code",
   "execution_count": 65,
   "metadata": {
    "collapsed": false
   },
   "outputs": [],
   "source": [
    "real_train_accuracy = [];\n",
    "bst_predict_train_staged = bst_base.staged_predict(training_X);\n",
    "for real_train_predict in bst_predict_train_staged:\n",
    "    real_train_accuracy.append(accuracy_score(real_train_predict, training_y));"
   ]
  },
  {
   "cell_type": "code",
   "execution_count": 67,
   "metadata": {
    "collapsed": false
   },
   "outputs": [
    {
     "data": {
      "image/png": "[encoded data removed]",
      "text/plain": [
       "<matplotlib.figure.Figure at 0xcf9b6d0>"
      ]
     },
     "metadata": {},
     "output_type": "display_data"
    }
   ],
   "source": [
    "plt.figure(figsize=(5, 5));\n",
    "plt.ylabel('Train accuracy')\n",
    "plt.xlabel('Number of estimators')\n",
    "plt.plot(range(1, len(real_train_accuracy) + 1),\n",
    "         real_train_accuracy, c='blue',\n",
    "         linestyle='dashed', label='SAMME.R');"
   ]
  },
  {
   "cell_type": "code",
   "execution_count": 133,
   "metadata": {
    "collapsed": false
   },
   "outputs": [
    {
     "name": "stdout",
     "output_type": "stream",
     "text": [
      "Training accuracy: 0.462080241479\n",
      "Testing accuracy: 0.454225352113\n"
     ]
    }
   ],
   "source": [
    "# Training accuracy\n",
    "bst_predict_train = bst_base.predict(training_X);\n",
    "bst_n_correct_train = 0;\n",
    "for i in range(n_training):\n",
    "    if bst_predict_train[i] == training_y[i]:\n",
    "        bst_n_correct_train += 1;\n",
    "print \"Training accuracy: {}\".format(1.0*bst_n_correct_train / n_training);\n",
    "\n",
    "# Testing accuracy\n",
    "bst_predict_test = bst_base.predict(testing_X);\n",
    "bst_n_correct_test = 0;\n",
    "for i in range(n_testing):\n",
    "    if bst_predict_test[i] == testing_y[i]:\n",
    "        bst_n_correct_test += 1;\n",
    "print \"Testing accuracy: {}\".format(1.0*bst_n_correct_test / n_testing);"
   ]
  },
  {
   "cell_type": "code",
   "execution_count": 52,
   "metadata": {
    "collapsed": false
   },
   "outputs": [
    {
     "data": {
      "image/png": "[encoded data removed]",
      "text/plain": [
       "<matplotlib.figure.Figure at 0x8bad1d0>"
      ]
     },
     "metadata": {},
     "output_type": "display_data"
    }
   ],
   "source": [
    "bst_cm_train = confusion_matrix(training_y, bst_predict_train);\n",
    "bst_cm_train = bst_cm_train.astype('float') / bst_cm_train.sum(axis=1)[:, np.newaxis]\n",
    "fig = plt.figure(figsize=(10, 5));\n",
    "plt.subplot(131)\n",
    "plt.imshow(bst_cm_train, interpolation='nearest', cmap=plt.cm.Blues);\n",
    "plt.ylabel('actual label');\n",
    "plt.xlabel('predicted label')\n",
    "plt.title('Training');\n",
    "plt.colorbar();\n",
    "tick_marks = np.arange(len(labels));\n",
    "plt.xticks(tick_marks, labels, rotation=45, fontsize=8);\n",
    "plt.yticks(tick_marks, labels, fontsize=8);\n",
    "\n",
    "bst_cm_test = confusion_matrix(testing_y, bst_predict_test);\n",
    "bst_cm_test = bst_cm_test.astype('float') / bst_cm_test.sum(axis=1)[:, np.newaxis]\n",
    "plt.subplot(133)\n",
    "plt.imshow(bst_cm_test, interpolation='nearest', cmap=plt.cm.Blues);\n",
    "plt.ylabel('actual label');\n",
    "plt.xlabel('predicted label')\n",
    "plt.title('Testing');\n",
    "plt.colorbar();\n",
    "tick_marks = np.arange(len(labels));\n",
    "plt.xticks(tick_marks, labels, rotation=45, fontsize=8);\n",
    "plt.yticks(tick_marks, labels, fontsize=8);"
   ]
  },
  {
   "cell_type": "code",
   "execution_count": 6,
   "metadata": {
    "collapsed": true
   },
   "outputs": [],
   "source": [
    "# Just use decision tree classifier\n",
    "# bdt_discrete = AdaBoostClassifier(\n",
    "#     DecisionTreeClassifier(max_depth=5),\n",
    "#     n_estimators=200,\n",
    "#     learning_rate=1,\n",
    "#     algorithm=\"SAMME\");"
   ]
  },
  {
   "cell_type": "code",
   "execution_count": 52,
   "metadata": {
    "collapsed": false
   },
   "outputs": [
    {
     "data": {
      "image/png": "[encoded data removed]",
      "text/plain": [
       "<matplotlib.figure.Figure at 0x6678f10>"
      ]
     },
     "metadata": {},
     "output_type": "display_data"
    }
   ],
   "source": [
    "# cm_train = confusion_matrix(training_y, predict_labels_train);\n",
    "# cm_train = cm_train.astype('float') / cm_train.sum(axis=1)[:, np.newaxis]\n",
    "# fig = plt.figure(figsize=(10, 5));\n",
    "# plt.subplot(131)\n",
    "# plt.imshow(cm_train, interpolation='nearest', cmap=plt.cm.Blues);\n",
    "# plt.ylabel('actual label');\n",
    "# plt.xlabel('predicted label')\n",
    "# plt.title('Training');\n",
    "# plt.colorbar();\n",
    "# tick_marks = np.arange(len(labels));\n",
    "# plt.xticks(tick_marks, labels, rotation=45);\n",
    "# plt.yticks(tick_marks, labels);\n",
    "\n",
    "# cm_test = confusion_matrix(testing_y, predict_labels_test);\n",
    "# cm_test = cm_test.astype('float') / cm_test.sum(axis=1)[:, np.newaxis]\n",
    "# plt.subplot(133)\n",
    "# plt.imshow(cm_test, interpolation='nearest', cmap=plt.cm.Blues);\n",
    "# plt.ylabel('actual label');\n",
    "# plt.xlabel('predicted label')\n",
    "# plt.title('Testing');\n",
    "# plt.colorbar();\n",
    "# tick_marks = np.arange(len(labels));\n",
    "# plt.xticks(tick_marks, labels, rotation=45);\n",
    "# plt.yticks(tick_marks, labels);"
   ]
  },
  {
   "cell_type": "code",
   "execution_count": 50,
   "metadata": {
    "collapsed": false
   },
   "outputs": [
    {
     "name": "stdout",
     "output_type": "stream",
     "text": [
      "AdaBoosting Training time: 1045.33196092\n"
     ]
    }
   ],
   "source": [
    "# t = time();\n",
    "# bdt_discrete.fit(training_X, training_y);\n",
    "# print \"AdaBoosting Training time: {}\".format(time() - t);"
   ]
  },
  {
   "cell_type": "code",
   "execution_count": 51,
   "metadata": {
    "collapsed": false
   },
   "outputs": [
    {
     "name": "stdout",
     "output_type": "stream",
     "text": [
      "Training accuracy: 0.733366872092\n",
      "Testing accuracy: 0.543259557344\n"
     ]
    }
   ],
   "source": [
    "# Training accuracy\n",
    "# predict_labels_train = bdt_discrete.predict(training_X);\n",
    "# n_correct_train = 0;\n",
    "# for i in range(n_training):\n",
    "#     if predict_labels_train[i] == training_y[i]:\n",
    "#         n_correct_train += 1;\n",
    "# print \"Training accuracy: {}\".format(1.0*n_correct_train / n_training);\n",
    "\n",
    "# # Testing accuracy\n",
    "# predict_labels_test = bdt_discrete.predict(testing_X);\n",
    "# n_correct_test = 0;\n",
    "# for i in range(n_testing):\n",
    "#     if predict_labels_test[i] == testing_y[i]:\n",
    "#         n_correct_test += 1;\n",
    "# print \"Testing accuracy: {}\".format(1.0*n_correct_test / n_testing);"
   ]
  },
  {
   "cell_type": "code",
   "execution_count": 87,
   "metadata": {
    "collapsed": false
   },
   "outputs": [],
   "source": [
    "#check_estimator(HistEstimator);"
   ]
  },
  {
   "cell_type": "code",
   "execution_count": null,
   "metadata": {
    "collapsed": true
   },
   "outputs": [],
   "source": []
  }
 ],
 "metadata": {
  "kernelspec": {
   "display_name": "Python 2",
   "language": "python",
   "name": "python2"
  },
  "language_info": {
   "codemirror_mode": {
    "name": "ipython",
    "version": 2
   },
   "file_extension": ".py",
   "mimetype": "text/x-python",
   "name": "python",
   "nbconvert_exporter": "python",
   "pygments_lexer": "ipython2",
   "version": "2.7.3"
  }
 },
 "nbformat": 4,
 "nbformat_minor": 0
}
