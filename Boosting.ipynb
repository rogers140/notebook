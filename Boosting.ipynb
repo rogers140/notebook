{
 "cells": [
  {
   "cell_type": "code",
   "execution_count": 56,
   "metadata": {
    "collapsed": true
   },
   "outputs": [],
   "source": [
    "%reload_ext autoreload\n",
    "%autoreload 2\n",
    "\n",
    "import os\n",
    "import argparse\n",
    "import sys\n",
    "from time import time\n",
    "\n",
    "sys.path.append(os.path.join(os.environ['GORDON_REPO_DIR'], 'utilities'))\n",
    "from utilities2015 import *\n",
    "\n",
    "from matplotlib.path import Path\n",
    "%matplotlib inline\n",
    "\n",
    "import scipy\n",
    "from sklearn.ensemble import AdaBoostClassifier\n",
    "from sklearn.tree import DecisionTreeClassifier\n",
    "from sklearn.metrics import confusion_matrix\n",
    "\n",
    "from sklearn.utils.estimator_checks import check_estimator\n",
    "from sklearn.base import BaseEstimator, ClassifierMixin\n",
    "\n",
    "import random"
   ]
  },
  {
   "cell_type": "code",
   "execution_count": 2,
   "metadata": {
    "collapsed": true
   },
   "outputs": [],
   "source": [
    "hisDir = '/oasis/projects/nsf/csd395/ruogu/svm/training/';\n",
    "labels = ['BackG', '5N', '7n', '7N', '12N', 'Gr', 'LVe', 'Pn', 'SuVe', 'VLL'];\n",
    "\n",
    "fileNames = os.listdir(hisDir);\n",
    "Background = [np.load(hisDir + f) for f in fileNames if 'surround' in f];\n",
    "NonBg = [(np.load(hisDir + f), labels.index(f[:-4])) for f in fileNames if 'surround' not in f];"
   ]
  },
  {
   "cell_type": "code",
   "execution_count": 46,
   "metadata": {
    "collapsed": false
   },
   "outputs": [
    {
     "name": "stdout",
     "output_type": "stream",
     "text": [
      "1000\n",
      "9939\n",
      "9939\n"
     ]
    }
   ],
   "source": [
    "X = [];\n",
    "y = [];\n",
    "for data in NonBg:\n",
    "    label = data[1];\n",
    "    for i in range(0, data[0].shape[0]):\n",
    "        X.append(data[0][i]);\n",
    "        y.append(label);\n",
    "\n",
    "bg = [];\n",
    "for data in Background:\n",
    "    for i in range(0, data.shape[0]):\n",
    "        bg.append(data[i]);\n",
    "bg = random.sample(bg, 1000);\n",
    "print len(bg);\n",
    "\n",
    "X = X + bg;\n",
    "y = y + ([labels.index('BackG')] * 1000);\n",
    "print len(X);\n",
    "print len(y);"
   ]
  },
  {
   "cell_type": "code",
   "execution_count": 47,
   "metadata": {
    "collapsed": false
   },
   "outputs": [],
   "source": [
    "X = np.asarray(X);\n",
    "y = np.asarray(y);\n",
    "raw_data = zip(X, y);\n",
    "random.shuffle(raw_data);"
   ]
  },
  {
   "cell_type": "code",
   "execution_count": 48,
   "metadata": {
    "collapsed": true
   },
   "outputs": [],
   "source": [
    "quota = 0.8;\n",
    "n_training = int(len(raw_data)*quota);\n",
    "n_testing = len(raw_data) - n_training;\n",
    "training_X = np.asarray([x[0] for x in raw_data[:n_training]]);\n",
    "training_y = np.asarray([x[1] for x in raw_data[:n_training]]);\n",
    "testing_X = np.asarray([x[0] for x in raw_data[n_training:]]);\n",
    "testing_y = np.asarray([x[1] for x in raw_data[n_training:]]);"
   ]
  },
  {
   "cell_type": "code",
   "execution_count": 49,
   "metadata": {
    "collapsed": true
   },
   "outputs": [],
   "source": [
    "# Just use decision tree classifier\n",
    "bdt_discrete = AdaBoostClassifier(\n",
    "    DecisionTreeClassifier(max_depth=5),\n",
    "    n_estimators=200,\n",
    "    learning_rate=1,\n",
    "    algorithm=\"SAMME\");"
   ]
  },
  {
   "cell_type": "code",
   "execution_count": 50,
   "metadata": {
    "collapsed": false
   },
   "outputs": [
    {
     "name": "stdout",
     "output_type": "stream",
     "text": [
      "AdaBoosting Training time: 1045.33196092\n"
     ]
    }
   ],
   "source": [
    "t = time();\n",
    "bdt_discrete.fit(training_X, training_y);\n",
    "print \"AdaBoosting Training time: {}\".format(time() - t);"
   ]
  },
  {
   "cell_type": "code",
   "execution_count": 51,
   "metadata": {
    "collapsed": false
   },
   "outputs": [
    {
     "name": "stdout",
     "output_type": "stream",
     "text": [
      "Training accuracy: 0.733366872092\n",
      "Testing accuracy: 0.543259557344\n"
     ]
    }
   ],
   "source": [
    "# Training accuracy\n",
    "predict_labels_train = bdt_discrete.predict(training_X);\n",
    "n_correct_train = 0;\n",
    "for i in range(n_training):\n",
    "    if predict_labels_train[i] == training_y[i]:\n",
    "        n_correct_train += 1;\n",
    "print \"Training accuracy: {}\".format(1.0*n_correct_train / n_training);\n",
    "\n",
    "# Testing accuracy\n",
    "predict_labels_test = bdt_discrete.predict(testing_X);\n",
    "n_correct_test = 0;\n",
    "for i in range(n_testing):\n",
    "    if predict_labels_test[i] == testing_y[i]:\n",
    "        n_correct_test += 1;\n",
    "print \"Testing accuracy: {}\".format(1.0*n_correct_test / n_testing);"
   ]
  },
  {
   "cell_type": "code",
   "execution_count": 52,
   "metadata": {
    "collapsed": false
   },
   "outputs": [
    {
     "data": {
      "image/png": "[encoded data removed]",
      "text/plain": [
       "<matplotlib.figure.Figure at 0x6678f10>"
      ]
     },
     "metadata": {},
     "output_type": "display_data"
    }
   ],
   "source": [
    "cm_train = confusion_matrix(training_y, predict_labels_train);\n",
    "cm_train = cm_train.astype('float') / cm_train.sum(axis=1)[:, np.newaxis]\n",
    "fig = plt.figure(figsize=(10, 5));\n",
    "plt.subplot(131)\n",
    "plt.imshow(cm_train, interpolation='nearest', cmap=plt.cm.Blues);\n",
    "plt.ylabel('actual label');\n",
    "plt.xlabel('predicted label')\n",
    "plt.title('Training');\n",
    "plt.colorbar();\n",
    "tick_marks = np.arange(len(labels));\n",
    "plt.xticks(tick_marks, labels, rotation=45);\n",
    "plt.yticks(tick_marks, labels);\n",
    "\n",
    "cm_test = confusion_matrix(testing_y, predict_labels_test);\n",
    "cm_test = cm_test.astype('float') / cm_test.sum(axis=1)[:, np.newaxis]\n",
    "plt.subplot(133)\n",
    "plt.imshow(cm_test, interpolation='nearest', cmap=plt.cm.Blues);\n",
    "plt.ylabel('actual label');\n",
    "plt.xlabel('predicted label')\n",
    "plt.title('Testing');\n",
    "plt.colorbar();\n",
    "tick_marks = np.arange(len(labels));\n",
    "plt.xticks(tick_marks, labels, rotation=45);\n",
    "plt.yticks(tick_marks, labels);"
   ]
  },
  {
   "cell_type": "code",
   "execution_count": 126,
   "metadata": {
    "collapsed": false
   },
   "outputs": [],
   "source": [
    "class HistEstimator (BaseEstimator, ClassifierMixin):\n",
    "    def __init__(self, threshold=0.5):\n",
    "        self.threshold = threshold;\n",
    "        self.prototypes = [];\n",
    "        self.classes_ = np.arange(10);\n",
    "        \n",
    "#     def set_params(self, threshold=0.5):\n",
    "#         self.threshold = threshold;\n",
    "        \n",
    "    def fit(self, X, y, sample_weight):\n",
    "        if X.shape[0] == 0: \n",
    "            raise ValueError('0 sample(s) while a minimum of 1 is required');\n",
    "        if X.shape[1] == 0:\n",
    "            raise ValueError('0 feature(s) (shape=({}, 0)) while a minimum of 1 is required.'.format(X.shape[0]));\n",
    "        if X.shape[0] != y.shape[0]:\n",
    "            raise ValueError('X and y should have same first d');\n",
    "        if X[np.isnan(X)].shape[0] > 0 or X[np.isinf(X)].shape[0] > 0:\n",
    "            raise ValueError('X should not contain Nan or Inf.');\n",
    "            \n",
    "        # Get prototype of each class histogram by averaging them\n",
    "        sample_weight = sample_weight * X.shape[0];\n",
    "        weights = np.transpose(np.tile(sample_weight, (X.shape[1], 1)));\n",
    "        X = np.multiply(X, weights);\n",
    "        for i in range(0, 10):\n",
    "            xi = [x[0] for x in zip(X, y) if x[1] == i];\n",
    "            n = len(xi);\n",
    "            xi = np.asarray(xi, dtype=float);\n",
    "            xi = np.sum(xi, axis=0);\n",
    "            xi = xi / n;\n",
    "            self.prototypes.append(xi);\n",
    "        return self;\n",
    "\n",
    "    def predict(self, X):\n",
    "        # Predict label \n",
    "        specialist = np.asarray(self.prototypes);\n",
    "        # Calculate histogram intersection score (larger means more similar).\n",
    "        scores = [];\n",
    "        for i in range(0, specialist.shape[0]):\n",
    "            score = 0.5 * np.sum(X + specialist[i] - np.abs(X - specialist[i]), axis=1);\n",
    "            scores.append(score);\n",
    "        max_scores = np.max(np.asarray(scores), axis=0);\n",
    "        max_index = np.argmax(np.asarray(scores), axis=0);\n",
    "        # Classify as Bg if scores less than threshold\n",
    "        max_index[max_scores < self.threshold] = 0;\n",
    "        return max_index"
   ]
  },
  {
   "cell_type": "code",
   "execution_count": 87,
   "metadata": {
    "collapsed": false
   },
   "outputs": [],
   "source": [
    "#check_estimator(HistEstimator);"
   ]
  },
  {
   "cell_type": "code",
   "execution_count": 123,
   "metadata": {
    "collapsed": false
   },
   "outputs": [
    {
     "name": "stdout",
     "output_type": "stream",
     "text": [
      "Base training takes 1.13342213631 sec.\n",
      "Predict time 2.17374992371 sec.\n",
      "Training accuracy: 0.506602943026\n",
      "Testing accuracy: 0.503521126761\n"
     ]
    },
    {
     "data": {
      "image/png": "[encoded data removed]",
      "text/plain": [
       "<matplotlib.figure.Figure at 0x5e903d0>"
      ]
     },
     "metadata": {},
     "output_type": "display_data"
    }
   ],
   "source": [
    "# Doing base classifier test\n",
    "baseClassifier = HistEstimator(0.2);\n",
    "initial_weights = np.ones(n_training) / n_training;\n",
    "t = time();\n",
    "baseClassifier.fit(training_X, training_y, initial_weights);\n",
    "print \"Base training takes {} sec.\".format(time() - t);\n",
    "\n",
    "base_predict_train = baseClassifier.predict(training_X);\n",
    "t = time();\n",
    "base_predict_test = baseClassifier.predict(testing_X);\n",
    "print \"Predict time {} sec.\".format(time() - t);\n",
    "\n",
    "base_n_correct_train = 0;\n",
    "for i in range(n_training):\n",
    "    if base_predict_train[i] == training_y[i]:\n",
    "        base_n_correct_train += 1;\n",
    "print \"Training accuracy: {}\".format(1.0*base_n_correct_train / n_training);\n",
    "\n",
    "base_n_correct_test = 0;\n",
    "for i in range(n_testing):\n",
    "    if base_predict_test[i] == testing_y[i]:\n",
    "        base_n_correct_test += 1;\n",
    "print \"Testing accuracy: {}\".format(1.0*base_n_correct_test / n_testing);\n",
    "\n",
    "cm_train_base = confusion_matrix(training_y, base_predict_train);\n",
    "cm_train_base = cm_train_base.astype('float') / cm_train_base.sum(axis=1)[:, np.newaxis]\n",
    "fig = plt.figure(figsize=(10, 5));\n",
    "plt.subplot(131)\n",
    "plt.imshow(cm_train_base, interpolation='nearest', cmap=plt.cm.Blues);\n",
    "plt.ylabel('actual label');\n",
    "plt.xlabel('predicted label')\n",
    "plt.title('Training');\n",
    "plt.colorbar();\n",
    "tick_marks = np.arange(len(labels));\n",
    "plt.xticks(tick_marks, labels, rotation=45, fontsize=8);\n",
    "plt.yticks(tick_marks, labels, fontsize=8);\n",
    "\n",
    "cm_test_base = confusion_matrix(testing_y, base_predict_test);\n",
    "cm_test_base = cm_test_base.astype('float') / cm_test_base.sum(axis=1)[:, np.newaxis]\n",
    "plt.subplot(133)\n",
    "plt.imshow(cm_test_base, interpolation='nearest', cmap=plt.cm.Blues);\n",
    "plt.ylabel('actual label');\n",
    "plt.xlabel('predicted label')\n",
    "plt.title('Testing');\n",
    "plt.colorbar();\n",
    "tick_marks = np.arange(len(labels));\n",
    "plt.xticks(tick_marks, labels, rotation=45, fontsize=8);\n",
    "plt.yticks(tick_marks, labels, fontsize=8);"
   ]
  },
  {
   "cell_type": "code",
   "execution_count": 127,
   "metadata": {
    "collapsed": true
   },
   "outputs": [],
   "source": [
    "# Apply base classifier to ada boost\n",
    "bst_base = AdaBoostClassifier(\n",
    "    HistEstimator(0.2),\n",
    "    n_estimators=200,\n",
    "    learning_rate=1.6,\n",
    "    algorithm=\"SAMME\");"
   ]
  },
  {
   "cell_type": "code",
   "execution_count": 128,
   "metadata": {
    "collapsed": false
   },
   "outputs": [
    {
     "name": "stdout",
     "output_type": "stream",
     "text": [
      "AdaBoosting Training time: 1985.19661188\n"
     ]
    }
   ],
   "source": [
    "t = time();\n",
    "bst_base.fit(training_X, training_y);\n",
    "print \"AdaBoosting Training time: {}\".format(time() - t);"
   ]
  },
  {
   "cell_type": "code",
   "execution_count": 129,
   "metadata": {
    "collapsed": false
   },
   "outputs": [
    {
     "name": "stdout",
     "output_type": "stream",
     "text": [
      "Training accuracy: 0.452395925041\n",
      "Testing accuracy: 0.447183098592\n"
     ]
    }
   ],
   "source": [
    "# Training accuracy\n",
    "predict_bst_train = bst_base.predict(training_X);\n",
    "n_correct_train_bst = 0;\n",
    "for i in range(n_training):\n",
    "    if predict_bst_train[i] == training_y[i]:\n",
    "        n_correct_train_bst += 1;\n",
    "print \"Training accuracy: {}\".format(1.0*n_correct_train_bst / n_training);\n",
    "\n",
    "# Testing accuracy\n",
    "predict_bst_test = bst_base.predict(testing_X);\n",
    "n_correct_test_bst = 0;\n",
    "for i in range(n_testing):\n",
    "    if predict_bst_test[i] == testing_y[i]:\n",
    "        n_correct_test_bst += 1;\n",
    "print \"Testing accuracy: {}\".format(1.0*n_correct_test_bst / n_testing);"
   ]
  },
  {
   "cell_type": "code",
   "execution_count": 130,
   "metadata": {
    "collapsed": false
   },
   "outputs": [
    {
     "data": {
      "image/png": "[encoded data removed]",
      "text/plain": [
       "<matplotlib.figure.Figure at 0x673eb10>"
      ]
     },
     "metadata": {},
     "output_type": "display_data"
    }
   ],
   "source": [
    "cm_train_bst = confusion_matrix(training_y, base_predict_train);\n",
    "cm_train_bst = cm_train_bst.astype('float') / cm_train_bst.sum(axis=1)[:, np.newaxis]\n",
    "fig = plt.figure(figsize=(10, 5));\n",
    "plt.subplot(131)\n",
    "plt.imshow(cm_train_bst, interpolation='nearest', cmap=plt.cm.Blues);\n",
    "plt.ylabel('actual label');\n",
    "plt.xlabel('predicted label')\n",
    "plt.title('Training');\n",
    "plt.colorbar();\n",
    "tick_marks = np.arange(len(labels));\n",
    "plt.xticks(tick_marks, labels, rotation=45, fontsize=8);\n",
    "plt.yticks(tick_marks, labels, fontsize=8);\n",
    "\n",
    "cm_test_bst = confusion_matrix(testing_y, base_predict_test);\n",
    "cm_test_bst = cm_test_bst.astype('float') / cm_test_bst.sum(axis=1)[:, np.newaxis]\n",
    "plt.subplot(133)\n",
    "plt.imshow(cm_test_bst, interpolation='nearest', cmap=plt.cm.Blues);\n",
    "plt.ylabel('actual label');\n",
    "plt.xlabel('predicted label')\n",
    "plt.title('Testing');\n",
    "plt.colorbar();\n",
    "tick_marks = np.arange(len(labels));\n",
    "plt.xticks(tick_marks, labels, rotation=45, fontsize=8);\n",
    "plt.yticks(tick_marks, labels, fontsize=8);"
   ]
  },
  {
   "cell_type": "code",
   "execution_count": null,
   "metadata": {
    "collapsed": true
   },
   "outputs": [],
   "source": []
  }
 ],
 "metadata": {
  "kernelspec": {
   "display_name": "Python 2",
   "language": "python",
   "name": "python2"
  },
  "language_info": {
   "codemirror_mode": {
    "name": "ipython",
    "version": 2
   },
   "file_extension": ".py",
   "mimetype": "text/x-python",
   "name": "python",
   "nbconvert_exporter": "python",
   "pygments_lexer": "ipython2",
   "version": "2.7.3"
  }
 },
 "nbformat": 4,
 "nbformat_minor": 0
}
