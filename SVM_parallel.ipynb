{
 "cells": [
  {
   "cell_type": "code",
   "execution_count": 2,
   "metadata": {
    "collapsed": true
   },
   "outputs": [],
   "source": [
    "%reload_ext autoreload\n",
    "%autoreload 2\n",
    "\n",
    "import os\n",
    "import argparse\n",
    "import sys\n",
    "from time import time\n",
    "\n",
    "sys.path.append(os.path.join(os.environ['GORDON_REPO_DIR'], 'utilities'))\n",
    "from utilities2015 import *\n",
    "\n",
    "from matplotlib.path import Path\n",
    "%matplotlib inline\n",
    "\n",
    "import scipy\n",
    "from sklearn import svm\n",
    "from sklearn.metrics import confusion_matrix\n",
    "from multiprocessing import Pool\n",
    "\n",
    "import random\n",
    "from itertools import product"
   ]
  },
  {
   "cell_type": "code",
   "execution_count": 3,
   "metadata": {
    "collapsed": false
   },
   "outputs": [
    {
     "name": "stdout",
     "output_type": "stream",
     "text": [
      "(188118, 4200)\n",
      "(188118,)\n",
      "<type 'list'>\n"
     ]
    }
   ],
   "source": [
    "X = np.load('/oasis/projects/nsf/csd395/ruogu/svm2/X.npy');\n",
    "y = np.load('/oasis/projects/nsf/csd395/ruogu/svm2/y.npy');\n",
    "print \"%s\" %(X.shape,);\n",
    "print \"%s\" %(y.shape,);\n",
    "raw_data = zip(X, y);\n",
    "print type(raw_data);"
   ]
  },
  {
   "cell_type": "code",
   "execution_count": 4,
   "metadata": {
    "collapsed": true
   },
   "outputs": [],
   "source": [
    "data = [];\n",
    "n_classSample = 1000; # Number of samples from each class\n",
    "for i in range(0, 10):\n",
    "    data_for_class = [x for x in raw_data if x[1] == i];\n",
    "    data = data + random.sample(data_for_class, n_classSample);\n",
    "# data is a list of (ndarray, int)\n",
    "random.shuffle(data);\n",
    "quota = 0.75;\n",
    "n_training = int(len(data) * quota);\n",
    "n_testing = len(data) - n_training;"
   ]
  },
  {
   "cell_type": "code",
   "execution_count": 5,
   "metadata": {
    "collapsed": true
   },
   "outputs": [],
   "source": [
    "training_data = data[:n_training];\n",
    "testing_data = data[n_training:];"
   ]
  },
  {
   "cell_type": "code",
   "execution_count": 6,
   "metadata": {
    "collapsed": true
   },
   "outputs": [],
   "source": [
    "training_X = np.asarray([x[0] for x in training_data]);\n",
    "training_y = np.asarray([x[1] for x in training_data]);\n",
    "testing_X = np.asarray([x[0] for x in testing_data]);\n",
    "testing_y = np.asarray([x[1] for x in testing_data]);"
   ]
  },
  {
   "cell_type": "code",
   "execution_count": 7,
   "metadata": {
    "collapsed": false
   },
   "outputs": [
    {
     "name": "stdout",
     "output_type": "stream",
     "text": [
      "Shape of training data: (7500, 4200)\n",
      "Shape of training label: (7500,)\n",
      "Shape of testing data: (2500, 4200)\n",
      "Shape of testing label: (2500,)\n"
     ]
    }
   ],
   "source": [
    "print \"Shape of training data: %s\" %(training_X.shape,);\n",
    "print \"Shape of training label: %s\" %(training_y.shape,);\n",
    "print \"Shape of testing data: %s\" %(testing_X.shape,);\n",
    "print \"Shape of testing label: %s\" %(testing_y.shape,);"
   ]
  },
  {
   "cell_type": "code",
   "execution_count": 8,
   "metadata": {
    "collapsed": false
   },
   "outputs": [
    {
     "name": "stdout",
     "output_type": "stream",
     "text": [
      "Kernel calculation takes 3648.45438313 sec.\n"
     ]
    }
   ],
   "source": [
    "# Train in parallel.\n",
    "def train_job(position):\n",
    "    i = position[0];\n",
    "    j = position[1];\n",
    "    xi = training_X[i];\n",
    "    xj = training_X[j];\n",
    "    hi = 0.5 * sum(xi + xj - np.absolute(xi - xj)); # Equals to min(xi, xj)\n",
    "    return (i*n_training + j, hi);\n",
    "\n",
    "positions = [(x[0], x[1]) for x in product(range(0, n_training),range(0, n_training))];\n",
    "start = time();\n",
    "pool = Pool(processes=8); # This is a compution-heavy work, so we can have more process, like 15.\n",
    "result = pool.map(train_job, positions);\n",
    "end = time();\n",
    "print \"Kernel calculation takes {} sec.\".format(end - start);"
   ]
  },
  {
   "cell_type": "code",
   "execution_count": 9,
   "metadata": {
    "collapsed": false
   },
   "outputs": [],
   "source": [
    "sorted(result, key=lambda x: x[0]);\n",
    "myKernel = np.asarray([v[1] for v in result]);\n",
    "myKernel = myKernel.reshape(n_training, n_training);"
   ]
  },
  {
   "cell_type": "code",
   "execution_count": 10,
   "metadata": {
    "collapsed": false
   },
   "outputs": [],
   "source": [
    "# Train SVM\n",
    "clf = svm.SVC(kernel=\"precomputed\", decision_function_shape='ovr');\n",
    "clf.fit(myKernel, training_y);"
   ]
  },
  {
   "cell_type": "code",
   "execution_count": 11,
   "metadata": {
    "collapsed": false
   },
   "outputs": [
    {
     "name": "stdout",
     "output_type": "stream",
     "text": [
      "Training accuracy: 0.892666666667\n"
     ]
    }
   ],
   "source": [
    "# Training accuracy\n",
    "predict_labels_train = clf.predict(myKernel);\n",
    "n_correct_train = 0;\n",
    "for i in range(len(training_data)):\n",
    "    if predict_labels_train[i] == training_y[i]:\n",
    "        n_correct_train += 1;\n",
    "print \"Training accuracy: {}\".format(1.0*n_correct_train / len(training_data));"
   ]
  },
  {
   "cell_type": "code",
   "execution_count": 12,
   "metadata": {
    "collapsed": true
   },
   "outputs": [],
   "source": [
    "cm_train = confusion_matrix(training_y, predict_labels_train);"
   ]
  },
  {
   "cell_type": "code",
   "execution_count": 13,
   "metadata": {
    "collapsed": false
   },
   "outputs": [
    {
     "data": {
      "image/png": "[encoded data removed]",
      "text/plain": [
       "<matplotlib.figure.Figure at 0x83c5210>"
      ]
     },
     "metadata": {},
     "output_type": "display_data"
    }
   ],
   "source": [
    "plt.figure(figsize=(6, 6));\n",
    "plt.imshow(cm_train, interpolation='nearest', cmap=plt.cm.Greys);\n",
    "plt.ylabel('actual label');\n",
    "plt.xlabel('predicted label')\n",
    "plt.title('Confusion matrix for Training Data');\n",
    "plt.colorbar();\n",
    "classes = ['12N', '5N', '7n', '7N', 'Gr', 'LVe', 'Pn', 'SuVe', 'VLL', 'Bg'];\n",
    "tick_marks = np.arange(len(classes));\n",
    "plt.xticks(tick_marks, classes, rotation=45);\n",
    "plt.yticks(tick_marks, classes);"
   ]
  },
  {
   "cell_type": "code",
   "execution_count": 14,
   "metadata": {
    "collapsed": false
   },
   "outputs": [
    {
     "name": "stdout",
     "output_type": "stream",
     "text": [
      "Kernel calculation takes 1215.09832406 sec.\n"
     ]
    },
    {
     "name": "stderr",
     "output_type": "stream",
     "text": [
      "Exception in thread Thread-6:\n",
      "Traceback (most recent call last):\n",
      "  File \"/opt/python/lib/python2.7/threading.py\", line 551, in __bootstrap_inner\n",
      "    self.run()\n",
      "  File \"/opt/python/lib/python2.7/threading.py\", line 504, in run\n",
      "    self.__target(*self.__args, **self.__kwargs)\n",
      "  File \"/opt/python/lib/python2.7/multiprocessing/pool.py\", line 302, in _handle_workers\n",
      "    pool._maintain_pool()\n",
      "  File \"/opt/python/lib/python2.7/multiprocessing/pool.py\", line 206, in _maintain_pool\n",
      "    self._repopulate_pool()\n",
      "  File \"/opt/python/lib/python2.7/multiprocessing/pool.py\", line 199, in _repopulate_pool\n",
      "    w.start()\n",
      "  File \"/opt/python/lib/python2.7/multiprocessing/process.py\", line 130, in start\n",
      "    self._popen = Popen(self)\n",
      "  File \"/opt/python/lib/python2.7/multiprocessing/forking.py\", line 120, in __init__\n",
      "    self.pid = os.fork()\n",
      "OSError: [Errno 12] Cannot allocate memory\n",
      "\n"
     ]
    }
   ],
   "source": [
    "# Test in paralle.\n",
    "def test_job(position):\n",
    "    i = position[0];\n",
    "    j = position[1];\n",
    "    xi = testing_X[i];\n",
    "    xj = training_X[j];\n",
    "    hi = 0.5 * sum(xi + xj - np.absolute(xi - xj)); # Equals to min(xi, xj)\n",
    "    return (i*n_testing + j, hi);\n",
    "\n",
    "positions = [(x[0], x[1]) for x in product(range(0, n_testing),range(0, n_training))];\n",
    "start = time();\n",
    "pool = Pool(processes=8);\n",
    "result = pool.map(test_job, positions);\n",
    "end = time();\n",
    "print \"Kernel calculation takes {} sec.\".format(end - start);"
   ]
  },
  {
   "cell_type": "code",
   "execution_count": 15,
   "metadata": {
    "collapsed": true
   },
   "outputs": [],
   "source": [
    "sorted(result, key=lambda x: x[0]);\n",
    "testKernel = np.asarray([v[1] for v in result]);\n",
    "testKernel = testKernel.reshape(n_testing, n_training);"
   ]
  },
  {
   "cell_type": "code",
   "execution_count": 16,
   "metadata": {
    "collapsed": false
   },
   "outputs": [
    {
     "name": "stdout",
     "output_type": "stream",
     "text": [
      "Test accuracy: 0.6104\n"
     ]
    }
   ],
   "source": [
    "predict_labels_test = clf.predict(testKernel);\n",
    "n_correct_test = 0;\n",
    "for i in range(0, n_testing):\n",
    "    if (predict_labels_test[i] == testing_y[i]):\n",
    "        n_correct_test += 1;\n",
    "print \"Test accuracy: {}\".format(1.0*n_correct_test / n_testing);"
   ]
  },
  {
   "cell_type": "code",
   "execution_count": 17,
   "metadata": {
    "collapsed": true
   },
   "outputs": [],
   "source": [
    "cm_test = confusion_matrix(testing_y, predict_labels_test);"
   ]
  },
  {
   "cell_type": "code",
   "execution_count": 18,
   "metadata": {
    "collapsed": false
   },
   "outputs": [
    {
     "data": {
      "image/png": "[encoded data removed]",
      "text/plain": [
       "<matplotlib.figure.Figure at 0x2b1771931250>"
      ]
     },
     "metadata": {},
     "output_type": "display_data"
    }
   ],
   "source": [
    "plt.figure(figsize=(6, 6));\n",
    "plt.imshow(cm_test, interpolation='nearest', cmap=plt.cm.Blues);\n",
    "plt.ylabel('actual label');\n",
    "plt.xlabel('predicted label')\n",
    "plt.title('Confusion matrix for Testing Data');\n",
    "plt.colorbar();\n",
    "classes = ['12N', '5N', '7n', '7N', 'Gr', 'LVe', 'Pn', 'SuVe', 'VLL', 'Bg'];\n",
    "tick_marks = np.arange(len(classes));\n",
    "plt.xticks(tick_marks, classes, rotation=45);\n",
    "plt.yticks(tick_marks, classes);"
   ]
  },
  {
   "cell_type": "code",
   "execution_count": null,
   "metadata": {
    "collapsed": true
   },
   "outputs": [],
   "source": []
  }
 ],
 "metadata": {
  "kernelspec": {
   "display_name": "Python 2",
   "language": "python",
   "name": "python2"
  },
  "language_info": {
   "codemirror_mode": {
    "name": "ipython",
    "version": 2
   },
   "file_extension": ".py",
   "mimetype": "text/x-python",
   "name": "python",
   "nbconvert_exporter": "python",
   "pygments_lexer": "ipython2",
   "version": "2.7.3"
  }
 },
 "nbformat": 4,
 "nbformat_minor": 0
}
