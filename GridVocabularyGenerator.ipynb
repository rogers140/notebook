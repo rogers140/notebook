{
 "cells": [
  {
   "cell_type": "code",
   "execution_count": 25,
   "metadata": {
    "collapsed": true
   },
   "outputs": [],
   "source": [
    "%reload_ext autoreload\n",
    "%autoreload 2\n",
    "\n",
    "import os\n",
    "import argparse\n",
    "import sys\n",
    "from time import time\n",
    "import cv2\n",
    "\n",
    "from joblib import Parallel, delayed\n",
    "\n",
    "sys.path.append(os.path.join(os.environ['GORDON_REPO_DIR'], 'utilities'))\n",
    "from utilities2015 import *\n",
    "\n",
    "from matplotlib.path import Path\n",
    "%matplotlib inline\n",
    "\n",
    "import scipy.ndimage as nd\n",
    "import scipy\n",
    "from sklearn.cluster import KMeans\n",
    "import random\n",
    "from multiprocessing import Pool"
   ]
  },
  {
   "cell_type": "code",
   "execution_count": 19,
   "metadata": {
    "collapsed": true
   },
   "outputs": [],
   "source": [
    "# 1. Random sample from training images\n",
    "# 2. Perform k-means on their features\n",
    "trainingDir = '/oasis/projects/nsf/csd395/yuncong/CSHL_data_patches/MD589_byLandmark/';\n",
    "savingFileName = '/oasis/projects/nsf/csd395/ruogu/svm3';\n",
    "M = 200;"
   ]
  },
  {
   "cell_type": "code",
   "execution_count": 16,
   "metadata": {
    "collapsed": true
   },
   "outputs": [],
   "source": [
    "# Input: rgb color image\n",
    "def getFeaturesFromImage(image, patchSize=16, stride=56):\n",
    "    # Change image to gray scale\n",
    "    img = cv2.cvtColor(image, cv2.COLOR_RGB2GRAY);\n",
    "    # Generate key points\n",
    "    height = img.shape[0];\n",
    "    width = img.shape[1];\n",
    "    xv, yv = np.meshgrid(np.arange(patchSize / 2, width - patchSize / 2, stride),\n",
    "                         np.arange(patchSize / 2, height - patchSize / 2, stride),\n",
    "                         indexing='ij');\n",
    "    sample_points = np.c_[xv.flat, yv.flat];\n",
    "    cv_keypoints = [cv2.KeyPoint(x,y, patchSize) for x, y in sample_points];\n",
    "    sift = cv2.SIFT();\n",
    "    _, descriptors = sift.compute(img, cv_keypoints);\n",
    "    return descriptors;"
   ]
  },
  {
   "cell_type": "code",
   "execution_count": 22,
   "metadata": {
    "collapsed": true
   },
   "outputs": [],
   "source": [
    "def getFeaturesFromDir(directory):\n",
    "    fileNames = os.listdir(directory);\n",
    "    if len(fileNames) > 100:\n",
    "        fileNames = random.sample(fileNames, 100);\n",
    "    feature_list = [];\n",
    "    for fileName in fileNames:\n",
    "        image = imread(directory + fileName);\n",
    "        feature_list += getFeaturesFromImage(image).tolist();\n",
    "    return feature_list;"
   ]
  },
  {
   "cell_type": "code",
   "execution_count": 29,
   "metadata": {
    "collapsed": false
   },
   "outputs": [
    {
     "name": "stdout",
     "output_type": "stream",
     "text": [
      "11.7760801315\n"
     ]
    }
   ],
   "source": [
    "subDirNames = os.listdir(trainingDir);\n",
    "dir_list = [trainingDir + x + '/' for x in subDirNames];\n",
    "t = time();\n",
    "pool = Pool(processes=8);\n",
    "result = pool.map(getFeaturesFromDir, dir_list);\n",
    "print \"Gathering features takes {} sec.\".format(time() - t);"
   ]
  },
  {
   "cell_type": "code",
   "execution_count": 31,
   "metadata": {
    "collapsed": false
   },
   "outputs": [
    {
     "name": "stdout",
     "output_type": "stream",
     "text": [
      "(28800, 128)\n"
     ]
    }
   ],
   "source": [
    "feature_bank = [];\n",
    "for x in result:\n",
    "    feature_bank += x;\n",
    "feature_bank = np.asarray(feature_bank);\n",
    "print '%s' %(feature_bank.shape,);"
   ]
  },
  {
   "cell_type": "code",
   "execution_count": 36,
   "metadata": {
    "collapsed": false
   },
   "outputs": [
    {
     "name": "stdout",
     "output_type": "stream",
     "text": [
      "K-means takes 850.37383604 sec.\n"
     ]
    }
   ],
   "source": [
    "t = time();\n",
    "kmeans = KMeans(init='random', n_clusters=M, n_init=10);\n",
    "kmeans.fit(feature_bank);\n",
    "print \"K-means takes {} sec.\".format(time() - t);"
   ]
  },
  {
   "cell_type": "code",
   "execution_count": 37,
   "metadata": {
    "collapsed": true
   },
   "outputs": [],
   "source": [
    "np.save('/oasis/projects/nsf/csd395/ruogu/svm3/vocabulary.npy', kmeans.cluster_centers_);"
   ]
  },
  {
   "cell_type": "code",
   "execution_count": null,
   "metadata": {
    "collapsed": true
   },
   "outputs": [],
   "source": []
  }
 ],
 "metadata": {
  "kernelspec": {
   "display_name": "Python 2",
   "language": "python",
   "name": "python2"
  },
  "language_info": {
   "codemirror_mode": {
    "name": "ipython",
    "version": 2
   },
   "file_extension": ".py",
   "mimetype": "text/x-python",
   "name": "python",
   "nbconvert_exporter": "python",
   "pygments_lexer": "ipython2",
   "version": "2.7.3"
  }
 },
 "nbformat": 4,
 "nbformat_minor": 0
}
