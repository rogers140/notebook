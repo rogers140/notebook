{
 "cells": [
  {
   "cell_type": "code",
   "execution_count": 1,
   "metadata": {
    "collapsed": true
   },
   "outputs": [],
   "source": [
    "%reload_ext autoreload\n",
    "%autoreload 2\n",
    "\n",
    "import os\n",
    "import argparse\n",
    "import sys\n",
    "from time import time\n",
    "import cv2\n",
    "\n",
    "from joblib import Parallel, delayed\n",
    "\n",
    "sys.path.append(os.path.join(os.environ['GORDON_REPO_DIR'], 'utilities'))\n",
    "from utilities2015 import *\n",
    "\n",
    "from matplotlib.path import Path\n",
    "%matplotlib inline\n",
    "\n",
    "import scipy.ndimage as nd\n",
    "import scipy\n",
    "from sklearn.preprocessing import normalize\n",
    "from sklearn.metrics import confusion_matrix\n",
    "import random\n",
    "\n",
    "from multiprocessing import Pool\n",
    "import math"
   ]
  },
  {
   "cell_type": "code",
   "execution_count": 2,
   "metadata": {
    "collapsed": false
   },
   "outputs": [],
   "source": [
    "# Generating training and testing set.\n",
    "hisDir = '/oasis/projects/nsf/csd395/ruogu/boosting/training_L0/';\n",
    "labels = ['BackG', '5N', '7n', '7N', '12N', 'Gr', 'LVe', 'Pn', 'SuVe', 'VLL'];\n",
    "fileNames = os.listdir(hisDir);\n",
    "Background = [np.load(hisDir + f) for f in fileNames if 'surround' in f];\n",
    "NonBg = [(np.load(hisDir + f), labels.index(f[:-4])) for f in fileNames if 'surround' not in f];\n",
    "X = [];\n",
    "y = [];\n",
    "for data in NonBg:\n",
    "    label = data[1];\n",
    "    for i in range(0, data[0].shape[0]):\n",
    "        X.append(data[0][i]);\n",
    "        y.append(label);\n",
    "\n",
    "bg = [];\n",
    "for data in Background:\n",
    "    for i in range(0, data.shape[0]):\n",
    "        bg.append(data[i]);\n",
    "# bg = random.sample(bg, 1000);\n",
    "\n",
    "X = X + bg;\n",
    "y = y + ([labels.index('BackG')] * len(bg));\n",
    "\n",
    "X = np.asarray(X);\n",
    "y = np.asarray(y);\n",
    "raw_data = zip(X, y);\n",
    "random.shuffle(raw_data);\n",
    "\n",
    "quota = 0.8;\n",
    "n_training = int(len(raw_data)*quota);\n",
    "n_testing = len(raw_data) - n_training;\n",
    "training_X = np.asarray([x[0] for x in raw_data[:n_training]]);\n",
    "training_y = np.asarray([x[1] for x in raw_data[:n_training]]);\n",
    "testing_X = np.asarray([x[0] for x in raw_data[n_training:]]);\n",
    "testing_y = np.asarray([x[1] for x in raw_data[n_training:]]);"
   ]
  },
  {
   "cell_type": "code",
   "execution_count": 3,
   "metadata": {
    "collapsed": false
   },
   "outputs": [
    {
     "name": "stdout",
     "output_type": "stream",
     "text": [
      "Kernel calculation takes 157.631520987 sec.\n"
     ]
    }
   ],
   "source": [
    "# Train in parallel.\n",
    "def train_job(i):\n",
    "    xi = training_X[i];\n",
    "    his = 0.5 * np.sum(training_X + xi - np.abs(training_X - xi), axis=1); # Equals to min(xi, xj)\n",
    "    return (i, his);\n",
    "\n",
    "start = time();\n",
    "pool = Pool(processes=15); # This is a compution-heavy work, so we can have more process, like 15.\n",
    "result_train = pool.map(train_job, range(0, n_training));\n",
    "end = time();\n",
    "print \"Kernel calculation takes {} sec.\".format(end - start);\n",
    "result_train = sorted(result_train, key=lambda x: x[0]);\n",
    "myKernel = np.asarray([v[1] for v in result_train]);\n",
    "myKernel = myKernel.reshape(n_training, n_training);"
   ]
  },
  {
   "cell_type": "code",
   "execution_count": 8,
   "metadata": {
    "collapsed": false
   },
   "outputs": [],
   "source": [
    "class BaseClassifier:\n",
    "    def __init__(self, histogram, threshold, label, alpha, size, acc, index):\n",
    "        self.h = histogram;\n",
    "        self.t = threshold;\n",
    "        self.l = label;\n",
    "        self.alpha = alpha;\n",
    "        self.size = size;\n",
    "        self.acc = acc;\n",
    "        self.index = index;\n",
    "class Adaboost:    \n",
    "    def __init__(self, iteration, n_class, stride, init_ball_size, enter_t, exit_t):\n",
    "        self.clfs = [];\n",
    "        self.t = iteration;\n",
    "        self.n_class = n_class;\n",
    "        self.stride = stride;\n",
    "        self.init_ball_size = init_ball_size;\n",
    "        self.enter_t = enter_t;\n",
    "        self.exit_t = exit_t;\n",
    "\n",
    "    # precomputed_score is the score matrix\n",
    "    def fit(self, precomputed_scores, X, y):\n",
    "        n_samples = precomputed_scores.shape[0];\n",
    "        weights = np.zeros(n_samples);\n",
    "        weights.fill(1.0 / n_samples);\n",
    "        for t in range(0, self.t):\n",
    "            # Choose example\n",
    "            example_index = np.random.choice(range(n_samples), p=weights.tolist());\n",
    "            example = X[example_index];\n",
    "            # Calculate similarity scores\n",
    "            scores = precomputed_scores[example_index];\n",
    "            score_label_weight_index = zip(scores, y, weights, np.arange(n_samples));\n",
    "            score_label_weight_index = sorted(score_label_weight_index, \n",
    "                                              key=lambda x: x[0], reverse=True);\n",
    "            sorted_labels = [x[1] for x in score_label_weight_index];\n",
    "            sorted_weights = [x[2] for x in score_label_weight_index];\n",
    "            # Choose the plurality in the initial ball size\n",
    "            count = np.bincount(sorted_labels[:self.init_ball_size], \n",
    "                                weights = sorted_weights[:self.init_ball_size]);\n",
    "            label_of_interest = np.argmax(count);\n",
    "            label_fraction = count[label_of_interest] / sum(sorted_weights[:self.init_ball_size]);\n",
    "            \n",
    "            if label_fraction < self.enter_t:\n",
    "                # Discard this classifer\n",
    "                continue;\n",
    "            # Calculate threshold\n",
    "            n_max = self.init_ball_size;\n",
    "            for n in range(self.init_ball_size, n_samples, self.stride):\n",
    "                # checkZero(n, \"n\");\n",
    "                current_fraction = np.bincount(sorted_labels[:n],\n",
    "                                               sorted_weights[:n])[label_of_interest] / sum(sorted_weights[:n]);\n",
    "                if current_fraction > label_fraction:\n",
    "                    n_max = n;\n",
    "                    label_fraction = current_fraction;\n",
    "            # Calculate alpha for this classifier\n",
    "            abstained_weights = sum(sorted_weights[n_max:]);\n",
    "            error = sum(sorted_weights[:n_max]) - np.bincount(sorted_labels[:n_max],\n",
    "                                                              sorted_weights[:n_max])[label_of_interest];\n",
    "            epsilon = 1.0E-10; # In case error is 0.\n",
    "            alpha = 0.5 * math.log((1 - error + 0.5*abstained_weights) / (error + 0.5*abstained_weights));\n",
    "            # Reweight samples that are affected\n",
    "            for predicted_data in score_label_weight_index[:n_max]:\n",
    "                if predicted_data[1] == label_of_interest: # Shrink correctly predicted\n",
    "                    weights[predicted_data[3]] = weights[predicted_data[3]] * math.exp((-1.0)*alpha);\n",
    "                else: # Enlarge wrongly predicted\n",
    "                    weights[predicted_data[3]] = weights[predicted_data[3]] * math.exp(alpha);\n",
    "            weights = weights / np.sum(weights); # Normalize weights.\n",
    "            # Store this clf into clf list\n",
    "            current_clf = BaseClassifier(example, score_label_weight_index[n_max][0], \n",
    "                                        label_of_interest, alpha, n_max, label_fraction, example_index);\n",
    "            self.clfs.append(current_clf);\n",
    "        \n",
    "    def predict(self, X):\n",
    "        prob = self.predict_proba(X);\n",
    "        max_prob = np.max(prob, axis=1);\n",
    "        labels = np.argmax(prob, axis=1);\n",
    "        labels[max_prob==0] = -1;\n",
    "        return labels;\n",
    "        \n",
    "    def predict_proba(self, X):\n",
    "        if not self.clfs:\n",
    "            raise ValueError(\"There is no classifiers.\");\n",
    "        n_samples = X.shape[0];\n",
    "        prob = np.zeros(shape=(n_samples, self.n_class));\n",
    "        for clf in self.clfs:\n",
    "            score = 0.5 * np.sum(X + clf.h - np.abs(X - clf.h), axis=1);\n",
    "            score[score < clf.t] = 0;\n",
    "            score[score >= clf.t] = clf.alpha\n",
    "            prob[:,clf.l] += score;\n",
    "        return prob;\n",
    "\n",
    "    def stage_predict(self, X):\n",
    "        result = [];\n",
    "        n_samples = X.shape[0];\n",
    "        for i in range(0, len(self.clfs)):\n",
    "            current_clfs = self.clfs[:i];\n",
    "            prob = np.zeros(shape=(n_samples, self.n_class));\n",
    "            for clf in current_clfs:\n",
    "                score = 0.5 * np.sum(X + clf.h - np.abs(X - clf.h), axis=1);\n",
    "                score[score < clf.t] = 0;\n",
    "                score[score >= clf.t] = clf.alpha\n",
    "                prob[:,clf.l] += score;\n",
    "            max_prob = np.max(prob, axis=1);\n",
    "            labels = np.argmax(prob, axis=1);\n",
    "            labels[max_prob==0] = -1;\n",
    "            result.append(labels);\n",
    "        return result;\n",
    "            "
   ]
  },
  {
   "cell_type": "code",
   "execution_count": 9,
   "metadata": {
    "collapsed": false
   },
   "outputs": [
    {
     "name": "stdout",
     "output_type": "stream",
     "text": [
      "Fitting takes 189.007380962 seconds.\n",
      "53 useful classifers.\n"
     ]
    }
   ],
   "source": [
    "bst = Adaboost(iteration=100, n_class=10, stride=10, init_ball_size=50, enter_t=0.5, exit_t=0.5);\n",
    "t = time();\n",
    "bst.fit(myKernel, training_X, training_y);\n",
    "print \"Fitting takes {} seconds.\".format(time() - t);\n",
    "print \"{} useful classifers.\".format(len(bst.clfs));"
   ]
  },
  {
   "cell_type": "code",
   "execution_count": 32,
   "metadata": {
    "collapsed": true
   },
   "outputs": [],
   "source": [
    "n_clf = len(bst.clfs);\n",
    "clf_radius = [clf.size for clf in bst.clfs];\n",
    "clf_acc = [clf.acc for clf in bst.clfs];\n",
    "clf_alpha = [clf.alpha for clf in bst.clfs];"
   ]
  },
  {
   "cell_type": "code",
   "execution_count": 50,
   "metadata": {
    "collapsed": false
   },
   "outputs": [
    {
     "data": {
      "image/png": "[encoded data removed]",
      "text/plain": [
       "<matplotlib.figure.Figure at 0x9e49990>"
      ]
     },
     "metadata": {},
     "output_type": "display_data"
    }
   ],
   "source": [
    "plt.figure(figsize=(8,16));\n",
    "plt.subplot(311);\n",
    "plt.title(\"Radius of weak learner\");\n",
    "plt.ylabel(\"Number of examples predicted\");\n",
    "plt.stem(range(0, n_clf), clf_radius, '-.', bottom=50);\n",
    "\n",
    "plt.subplot(312);\n",
    "plt.title(\"Weighted acc of weak learner\");\n",
    "plt.ylabel(\"Weighted Accuracy within the ball\");\n",
    "plt.stem(range(0, n_clf), clf_acc, '-.', bottom=0.5);\n",
    "\n",
    "plt.subplot(313);\n",
    "plt.title(\"Weight of each weak learner (alpha)\");\n",
    "plt.xlabel(\"Weak learners\");\n",
    "plt.ylabel(\"alpha\");\n",
    "plt.stem(range(0, n_clf), clf_alpha, '-.', bottom=0.545);"
   ]
  },
  {
   "cell_type": "code",
   "execution_count": 41,
   "metadata": {
    "collapsed": false
   },
   "outputs": [
    {
     "name": "stdout",
     "output_type": "stream",
     "text": [
      "Training Staged predict time 111.474653006\n"
     ]
    }
   ],
   "source": [
    "t = time();\n",
    "train_staged_result = bst.stage_predict(training_X);\n",
    "print \"Training Staged predict time {}\".format(time() - t);"
   ]
  },
  {
   "cell_type": "code",
   "execution_count": 42,
   "metadata": {
    "collapsed": false
   },
   "outputs": [],
   "source": [
    "train_staged_acc = [];\n",
    "train_staged_acc_abstain=[];\n",
    "for predicted_labels in train_staged_result:\n",
    "    n_correct_train = 0;\n",
    "    n_abstain_train = 0;\n",
    "    for i in range(n_training):\n",
    "        if predicted_labels[i] == -1:\n",
    "            n_abstain_train += 1;\n",
    "        if predicted_labels[i] == training_y[i]:\n",
    "            n_correct_train += 1;\n",
    "    train_staged_acc.append(1.0*n_correct_train / n_training);\n",
    "    if n_training - n_abstain_train !=0:\n",
    "        train_staged_acc_abstain.append(1.0*n_correct_train / (n_training - n_abstain_train));\n",
    "    else:\n",
    "        train_staged_acc_abstain.append(0);"
   ]
  },
  {
   "cell_type": "code",
   "execution_count": 43,
   "metadata": {
    "collapsed": false
   },
   "outputs": [
    {
     "name": "stdout",
     "output_type": "stream",
     "text": [
      "Testing Staged predict time 16.6289179325\n"
     ]
    }
   ],
   "source": [
    "t = time();\n",
    "test_staged_result = bst.stage_predict(testing_X);\n",
    "print \"Testing Staged predict time {}\".format(time() - t);"
   ]
  },
  {
   "cell_type": "code",
   "execution_count": 45,
   "metadata": {
    "collapsed": false
   },
   "outputs": [],
   "source": [
    "test_staged_acc = [];\n",
    "test_staged_acc_abstain=[];\n",
    "for predicted_labels in test_staged_result:\n",
    "    n_correct_test = 0;\n",
    "    n_abstain_test = 0;\n",
    "    for i in range(n_testing):\n",
    "        if predicted_labels[i] == -1:\n",
    "            n_abstain_test += 1;\n",
    "        if predicted_labels[i] == testing_y[i]:\n",
    "            n_correct_test += 1;\n",
    "    test_staged_acc.append(1.0*n_correct_test / n_testing);\n",
    "    if n_testing - n_abstain_test !=0:\n",
    "        test_staged_acc_abstain.append(1.0*n_correct_test / (n_testing - n_abstain_test));\n",
    "    else:\n",
    "        test_staged_acc_abstain.append(0);"
   ]
  },
  {
   "cell_type": "code",
   "execution_count": 48,
   "metadata": {
    "collapsed": false
   },
   "outputs": [
    {
     "data": {
      "image/png": "[encoded data removed]",
      "text/plain": [
       "<matplotlib.figure.Figure at 0xcf21a50>"
      ]
     },
     "metadata": {},
     "output_type": "display_data"
    }
   ],
   "source": [
    "plt.figure(figsize=(10,5));\n",
    "plt.subplot(111);\n",
    "plt.title(\"Number of classifier v.s. Accuracy\");\n",
    "plt.xlabel(\"Number of classifiers\");\n",
    "plt.ylabel(\"Accuracy\");\n",
    "plt.plot(range(0, n_clf), train_staged_acc, label='Train Total');\n",
    "plt.plot(range(0, n_clf), train_staged_acc_abstain, label='Train Predicted');\n",
    "plt.plot(range(0, n_clf), test_staged_acc, label='Test Total');\n",
    "plt.plot(range(0, n_clf), test_staged_acc_abstain, label='Test Predicted');\n",
    "plt.legend();"
   ]
  },
  {
   "cell_type": "code",
   "execution_count": null,
   "metadata": {
    "collapsed": false
   },
   "outputs": [],
   "source": [
    "# t = time();\n",
    "# train_predicted_labels = bst.predict(training_X);\n",
    "# print \"Predicting training labels takes {} seconds.\".format(time() - t);"
   ]
  },
  {
   "cell_type": "code",
   "execution_count": null,
   "metadata": {
    "collapsed": false
   },
   "outputs": [],
   "source": [
    "# n_correct_train = 0;\n",
    "# n_abstain = 0;\n",
    "# predicted = [];\n",
    "# for i in range(n_training):\n",
    "#     if train_predicted_labels[i] == -1:\n",
    "#         n_abstain += 1;\n",
    "#     else:\n",
    "#         predicted.append(i);\n",
    "#     if train_predicted_labels[i] == training_y[i]:\n",
    "#         n_correct_train += 1;\n",
    "# print \"Training accuracy: {}\".format(1.0*n_correct_train / n_training);\n",
    "# print \"Training accuracy with abstain: {}\".format(1.0*n_correct_train / (n_training - n_abstain));\n",
    "# print \"{} are abstained.\".format(1.0 * n_abstain / n_training);\n",
    "# cm_train = confusion_matrix(training_y[predicted], train_predicted_labels[predicted]);\n",
    "# cm_train = cm_train.astype('float') / cm_train.sum(axis=1)[:, np.newaxis]\n",
    "# fig = plt.figure(figsize=(6, 6));\n",
    "# plt.imshow(cm_train, interpolation='nearest', cmap=plt.cm.Blues);\n",
    "# plt.ylabel('actual label');\n",
    "# plt.xlabel('predicted label');\n",
    "# plt.title('Training');\n",
    "# plt.colorbar();\n",
    "# tick_marks = np.arange(len(labels));\n",
    "# plt.xticks(tick_marks, labels, rotation=45, fontsize=8);\n",
    "# plt.yticks(tick_marks, labels, fontsize=8);\n",
    "\n",
    "# ax = fig.add_subplot(111);\n",
    "# for x in xrange(len(labels)):\n",
    "#     for y in xrange(len(labels)):\n",
    "#         ax.annotate(\n",
    "#             \"%.2f\" % cm_train[x][y], \n",
    "#             xy=(y, x), \n",
    "#             horizontalalignment='center',\n",
    "#             verticalalignment='center');"
   ]
  },
  {
   "cell_type": "code",
   "execution_count": null,
   "metadata": {
    "collapsed": false
   },
   "outputs": [],
   "source": [
    "# t = time();\n",
    "# test_predicted_labels = bst.predict(testing_X);\n",
    "# print \"Predicting testing labels takes {} seconds.\".format(time() - t);"
   ]
  },
  {
   "cell_type": "code",
   "execution_count": null,
   "metadata": {
    "collapsed": false
   },
   "outputs": [],
   "source": [
    "# n_correct_test = 0;\n",
    "# n_abstain_test = 0;\n",
    "# predicted_test=[];\n",
    "# for i in range(n_testing):\n",
    "#     if test_predicted_labels[i] == -1:\n",
    "#         n_abstain_test += 1;\n",
    "#     elif test_predicted_labels[i] == testing_y[i]:\n",
    "#         n_correct_test += 1;\n",
    "#         predicted_test.append(i);\n",
    "# print \"Testing accuracy: {}\".format(1.0*n_correct_test / n_testing);\n",
    "# print \"Testing accuracy with abstain: {}\".format(1.0*n_correct_test / (n_testing - n_abstain_test));\n",
    "# print \"{} are abstained.\".format(1.0 * n_abstain / n_testing);\n",
    "# cm_test = confusion_matrix(testing_y[predicted_test], test_predicted_labels[predicted_test]);\n",
    "# cm_test = cm_test.astype('float') / cm_test.sum(axis=1)[:, np.newaxis]\n",
    "# fig = plt.figure(figsize=(6, 6));\n",
    "# plt.imshow(cm_train, interpolation='nearest', cmap=plt.cm.Blues);\n",
    "# plt.ylabel('actual label');\n",
    "# plt.xlabel('predicted label')\n",
    "# plt.title('Testing');\n",
    "# plt.colorbar();\n",
    "# tick_marks = np.arange(len(labels));\n",
    "# plt.xticks(tick_marks, labels, rotation=45, fontsize=8);\n",
    "# plt.yticks(tick_marks, labels, fontsize=8);\n",
    "\n",
    "# ax = fig.add_subplot(111);\n",
    "# for x in xrange(len(labels)):\n",
    "#     for y in xrange(len(labels)):\n",
    "#         ax.annotate(\n",
    "#             \"%.2f\" % cm_train[x][y], \n",
    "#             xy=(y, x), \n",
    "#             horizontalalignment='center',\n",
    "#             verticalalignment='center');"
   ]
  },
  {
   "cell_type": "code",
   "execution_count": null,
   "metadata": {
    "collapsed": true
   },
   "outputs": [],
   "source": []
  }
 ],
 "metadata": {
  "kernelspec": {
   "display_name": "Python 2",
   "language": "python",
   "name": "python2"
  },
  "language_info": {
   "codemirror_mode": {
    "name": "ipython",
    "version": 2
   },
   "file_extension": ".py",
   "mimetype": "text/x-python",
   "name": "python",
   "nbconvert_exporter": "python",
   "pygments_lexer": "ipython2",
   "version": "2.7.3"
  }
 },
 "nbformat": 4,
 "nbformat_minor": 0
}
