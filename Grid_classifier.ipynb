{
 "cells": [
  {
   "cell_type": "code",
   "execution_count": 3,
   "metadata": {
    "collapsed": true
   },
   "outputs": [],
   "source": [
    "%reload_ext autoreload\n",
    "%autoreload 2\n",
    "\n",
    "import os\n",
    "import argparse\n",
    "import sys\n",
    "from time import time\n",
    "\n",
    "sys.path.append(os.path.join(os.environ['GORDON_REPO_DIR'], 'utilities'))\n",
    "from utilities2015 import *\n",
    "\n",
    "from matplotlib.path import Path\n",
    "%matplotlib inline\n",
    "\n",
    "import scipy\n",
    "from sklearn import svm\n",
    "from sklearn.metrics import confusion_matrix\n",
    "from multiprocessing import Pool\n",
    "import random\n",
    "import pickle\n",
    "from sklearn.cluster import KMeans"
   ]
  },
  {
   "cell_type": "code",
   "execution_count": 4,
   "metadata": {
    "collapsed": true
   },
   "outputs": [],
   "source": [
    "M = 200;\n",
    "L = 2;\n",
    "classes = ['5N', '7n', '7N', '12N', 'Gr', 'LVe', 'Pn', 'SuVe', 'VLL' , 'BackG'];\n",
    "testDir = '/oasis/projects/nsf/csd395/yuncong/CSHL_data_patches/MD594_byROI/';"
   ]
  },
  {
   "cell_type": "code",
   "execution_count": 5,
   "metadata": {
    "collapsed": false
   },
   "outputs": [],
   "source": [
    "vocabulary = np.load('/oasis/projects/nsf/csd395/ruogu/svm3/vocabulary.npy');\n",
    "clf = pickle.load(open('/oasis/projects/nsf/csd395/ruogu/svm3/clf.p', \"rb\"));\n",
    "training_X = np.load('/oasis/projects/nsf/csd395/ruogu/svm3/training_X.npy');"
   ]
  },
  {
   "cell_type": "code",
   "execution_count": 14,
   "metadata": {
    "collapsed": true
   },
   "outputs": [],
   "source": [
    "kmeans = KMeans(init='random', n_clusters=M, n_init=10);\n",
    "kmeans.fit(vocabulary);"
   ]
  },
  {
   "cell_type": "code",
   "execution_count": 17,
   "metadata": {
    "collapsed": true
   },
   "outputs": [],
   "source": [
    "# Input: an rgb image filen name, a kmeans object, M and L\n",
    "def getHistogram(fileName, patchSize=16, stride=56):\n",
    "    # Change image to gray scale\n",
    "    image = imread(testDir + fileName);\n",
    "    img = cv2.cvtColor(image, cv2.COLOR_RGB2GRAY);\n",
    "    # Generate key points\n",
    "    height = img.shape[0];\n",
    "    width = img.shape[1];\n",
    "    xv, yv = np.meshgrid(np.arange(patchSize / 2, width - patchSize / 2, stride),\n",
    "                         np.arange(patchSize / 2, height - patchSize / 2, stride),\n",
    "                         indexing='ij');\n",
    "    sample_points = np.c_[xv.flat, yv.flat];\n",
    "    cv_keypoints = [cv2.KeyPoint(x,y, patchSize) for x, y in sample_points];\n",
    "    # Get SIFT descriptor.\n",
    "    sift = cv2.SIFT();\n",
    "    _, descriptors = sift.compute(img, cv_keypoints);\n",
    "    # Map key points with type.\n",
    "    cluster_labels = kmeans.predict(descriptors);\n",
    "    cluster_labels = cluster_labels;\n",
    "    # Level 0\n",
    "    weight_0 = 1.0 / (2**L);\n",
    "    histogram = np.bincount(cluster_labels, minlength = M);\n",
    "    histogram = histogram * weight_0;\n",
    "    # Other levels\n",
    "    for l in range(1, L + 1):\n",
    "        weight = 1.0 / (2**(L - l + 1));\n",
    "        grid_size_x = width / (2**l);\n",
    "        grid_size_y = height / (2**l);\n",
    "        grid_boundaries_x = range(0, width, grid_size_x);\n",
    "        grid_boundaries_y = range(0, height, grid_size_y);\n",
    "        number_of_grid = (2**l)**2;\n",
    "    \n",
    "        grid_crs = sample_points / [grid_size_x, grid_size_y];\n",
    "        grid_cols = grid_crs[:,0];  # x\n",
    "        grid_rows = grid_crs[:,1];  # y\n",
    "    \n",
    "        keypoint_grid_indices = grid_rows * (2**l) + grid_cols;\n",
    "        hists = np.zeros(shape=(number_of_grid, M), dtype=np.int);\n",
    "        for ki, label in zip(keypoint_grid_indices, cluster_labels):\n",
    "            hists[ki][label] += 1;\n",
    "        hists = hists * weight;\n",
    "        histogram = np.hstack((histogram, hists.flatten()));\n",
    "    return ((histogram / len(sample_points)), fileName); # Normalization"
   ]
  },
  {
   "cell_type": "code",
   "execution_count": 18,
   "metadata": {
    "collapsed": false
   },
   "outputs": [
    {
     "name": "stdout",
     "output_type": "stream",
     "text": [
      "16938\n"
     ]
    }
   ],
   "source": [
    "section_id = range(157, 167);\n",
    "testDir = '/oasis/projects/nsf/csd395/yuncong/CSHL_data_patches/MD594_byROI/' + str(section_id[0]).zfill(4)+ '/roi1/';\n",
    "saveDir = '/oasis/projects/nsf/csd395/ruogu/svm3/test/';\n",
    "# Get histograms\n",
    "fileNames = os.listdir(testDir);\n",
    "print len(fileNames);"
   ]
  },
  {
   "cell_type": "code",
   "execution_count": 20,
   "metadata": {
    "collapsed": false
   },
   "outputs": [
    {
     "name": "stdout",
     "output_type": "stream",
     "text": [
      "Generating histogram takes 80.6911289692 sec.\n"
     ]
    }
   ],
   "source": [
    "t = time();\n",
    "pool = Pool(processes=8);\n",
    "result = pool.map(getHistogram, fileNames);\n",
    "print \"Generating histogram takes {} sec.\".format(time() - t);"
   ]
  },
  {
   "cell_type": "code",
   "execution_count": 28,
   "metadata": {
    "collapsed": true
   },
   "outputs": [],
   "source": [
    "testing_X = [x[0] for x in result];\n",
    "names = [x[1] for x in result];"
   ]
  },
  {
   "cell_type": "code",
   "execution_count": 31,
   "metadata": {
    "collapsed": false
   },
   "outputs": [],
   "source": [
    "testing_X = np.asarray(test_X);\n",
    "n_testing = test_X.shape[0];\n",
    "n_training = training_X.shape[0];"
   ]
  },
  {
   "cell_type": "code",
   "execution_count": 25,
   "metadata": {
    "collapsed": true
   },
   "outputs": [],
   "source": [
    "supp_indices = clf.support_;\n",
    "supp_vecs = training_X[clf.support_];"
   ]
  },
  {
   "cell_type": "code",
   "execution_count": 34,
   "metadata": {
    "collapsed": false
   },
   "outputs": [
    {
     "name": "stdout",
     "output_type": "stream",
     "text": [
      "Kernel calculation takes 1469.59512997 sec.\n"
     ]
    }
   ],
   "source": [
    "# Test in parallel.\n",
    "def test_job(i):\n",
    "    xi = testing_X[i];\n",
    "    vals = 0.5 * np.sum(supp_vecs + xi - np.abs(supp_vecs - xi), axis=1); # Equals to min(xi, xj)\n",
    "    his = np.zeros(n_training);\n",
    "    his[supp_indices] = vals;\n",
    "    return (i, his);\n",
    "\n",
    "start = time();\n",
    "pool = Pool(processes=16);\n",
    "result = pool.map(test_job, range(0, n_testing));\n",
    "end = time();\n",
    "print \"Kernel calculation takes {} sec.\".format(end - start);"
   ]
  },
  {
   "cell_type": "code",
   "execution_count": 35,
   "metadata": {
    "collapsed": true
   },
   "outputs": [],
   "source": [
    "sorted(result, key=lambda x: x[0]);\n",
    "testKernel = np.asarray([v[1] for v in result]);\n",
    "testKernel = testKernel.reshape(n_testing, n_training);\n",
    "predict_labels_test = clf.predict(testKernel);"
   ]
  },
  {
   "cell_type": "code",
   "execution_count": 36,
   "metadata": {
    "collapsed": false
   },
   "outputs": [
    {
     "name": "stdout",
     "output_type": "stream",
     "text": [
      "16938\n"
     ]
    }
   ],
   "source": [
    "print len(predict_labels_test);"
   ]
  },
  {
   "cell_type": "code",
   "execution_count": 51,
   "metadata": {
    "collapsed": false
   },
   "outputs": [],
   "source": [
    "output_file = open('/oasis/projects/nsf/csd395/ruogu/svm3/test/' + str(section_id[0]).zfill(4) + '.txt', 'w');"
   ]
  },
  {
   "cell_type": "code",
   "execution_count": 52,
   "metadata": {
    "collapsed": false
   },
   "outputs": [],
   "source": [
    "for i in range(0, n_testing):\n",
    "    line = names[i] + \" \" + str(predict_labels_test[i]) + '\\n';\n",
    "    output_file.write(line);"
   ]
  },
  {
   "cell_type": "code",
   "execution_count": 53,
   "metadata": {
    "collapsed": true
   },
   "outputs": [],
   "source": [
    "output_file.close();"
   ]
  },
  {
   "cell_type": "code",
   "execution_count": null,
   "metadata": {
    "collapsed": true
   },
   "outputs": [],
   "source": []
  }
 ],
 "metadata": {
  "kernelspec": {
   "display_name": "Python 2",
   "language": "python",
   "name": "python2"
  },
  "language_info": {
   "codemirror_mode": {
    "name": "ipython",
    "version": 2
   },
   "file_extension": ".py",
   "mimetype": "text/x-python",
   "name": "python",
   "nbconvert_exporter": "python",
   "pygments_lexer": "ipython2",
   "version": "2.7.3"
  }
 },
 "nbformat": 4,
 "nbformat_minor": 0
}
