{
 "cells": [
  {
   "cell_type": "code",
   "execution_count": 45,
   "metadata": {
    "collapsed": true
   },
   "outputs": [],
   "source": [
    "%reload_ext autoreload\n",
    "%autoreload 2\n",
    "\n",
    "import os\n",
    "import argparse\n",
    "import sys\n",
    "import time\n",
    "import cv2\n",
    "\n",
    "from joblib import Parallel, delayed\n",
    "\n",
    "sys.path.append(os.path.join(os.environ['GORDON_REPO_DIR'], 'utilities'))\n",
    "from utilities2015 import *\n",
    "\n",
    "from matplotlib.path import Path\n",
    "%matplotlib inline\n",
    "\n",
    "import scipy.ndimage as nd\n",
    "import scipy\n",
    "\n",
    "from skimage.feature import hog\n",
    "from skimage import data, color, exposure\n",
    "from sklearn.cluster import KMeans\n",
    "\n",
    "import random"
   ]
  },
  {
   "cell_type": "code",
   "execution_count": 51,
   "metadata": {
    "collapsed": false
   },
   "outputs": [],
   "source": [
    "vocabulary = np.load('/oasis/projects/nsf/csd395/ruogu/vocabulary/vocabulary.npy');\n",
    "M = vocabulary.shape[0];\n",
    "L = 3;\n",
    "dataDir = '/oasis/projects/nsf/csd395/yuncong/CSHL_data_patches/patches/';\n",
    "svmDataDir = '/oasis/projects/nsf/csd395/ruogu/svm/';\n",
    "classes = ['12N', '5N', '7n', '7N', 'Gr', 'LVe', 'Pn', 'SuVe', 'VLL', 'Bg'];"
   ]
  },
  {
   "cell_type": "code",
   "execution_count": 52,
   "metadata": {
    "collapsed": true
   },
   "outputs": [],
   "source": [
    "kmeans = KMeans(init='random', n_clusters=M, n_init=10);\n",
    "kmeans.fit(vocabulary);"
   ]
  },
  {
   "cell_type": "code",
   "execution_count": 118,
   "metadata": {
    "collapsed": false
   },
   "outputs": [],
   "source": [
    "# Return the histogram of an image by applying SIFT + K-means + SPM\n",
    "# image: the input grayscaled image\n",
    "# kmeans: python kmeans object used to predict\n",
    "#             feature type of a new sift descriptor\n",
    "# M: number of channels (feature typs)\n",
    "# L: number of SPM levels.\n",
    "def getHistogram(image, kmeans, M, L):\n",
    "    x_size = image.shape[0];\n",
    "    y_size = image.shape[1];\n",
    "    # Get SIFT key points and descriptor.\n",
    "    sift = cv2.SIFT();\n",
    "    key_point, descriptor = sift.detectAndCompute(image, None);\n",
    "    # Map key points with type.\n",
    "    if descriptor is None:\n",
    "        return None;\n",
    "    cluster_labels = kmeans.predict(descriptor);\n",
    "    cluster_labels = cluster_labels + 1; # so label starts with 1\n",
    "    # Generate position list of key_points\n",
    "    positions = [];\n",
    "    for k in key_point:\n",
    "        positions.append((int(k.pt[0]), int(k.pt[1])));\n",
    "    label_map = np.zeros(shape=(x_size, y_size), dtype=np.int64);\n",
    "    positions = np.asarray(positions);\n",
    "    label_map[positions[:,1], positions[:,0]] = cluster_labels;\n",
    "    # Level 0\n",
    "    weight_0 = 1.0 / (2**L);\n",
    "    histogram = np.bincount(label_map.flatten(), minlength=(M + 1))[1:];\n",
    "    histogram = histogram * weight_0;\n",
    "    # Other levels\n",
    "    for l in range(1, L):\n",
    "        grid_x = x_size / (2**l);\n",
    "        grid_y = y_size / (2**l);\n",
    "        weight = 1.0 / (2**(L - l + 1));\n",
    "        for i in range(0, (2**l)):\n",
    "            x_min = i * grid_x;\n",
    "            x_max = x_min + grid_x;\n",
    "            for j in range(0, (2**l)):\n",
    "                y_min = j * grid_y;\n",
    "                y_max = y_min + grid_y;\n",
    "                # Count and update histogram from this grid.\n",
    "                histogram_tmp = np.bincount(label_map[x_min:x_max, y_min:y_max].flatten(), minlength=(M+1))[1:]\n",
    "                histogram_tmp = histogram_tmp * weight;\n",
    "                histogram = np.hstack((histogram, histogram_tmp));\n",
    "    return (histogram / len(key_point)); # Normalization"
   ]
  },
  {
   "cell_type": "code",
   "execution_count": null,
   "metadata": {
    "collapsed": false
   },
   "outputs": [],
   "source": [
    "#from time import time\n",
    "fileNames = os.listdir(dataDir);\n",
    "X = [];\n",
    "y = [];\n",
    "for fileName in fileNames:\n",
    "    print fileName;\n",
    "    images = np.load(dataDir + fileName);\n",
    "    label = -1;\n",
    "    # Get class label\n",
    "    if fileName[7] == '_':\n",
    "        className = fileName.partition('_')[-1].rpartition('_')[0];\n",
    "        label = classes.index(className);\n",
    "    else: # background\n",
    "        label = 9;\n",
    "    print label;\n",
    "    \n",
    "    for img in images:\n",
    "        img = cv2.cvtColor(img, cv2.COLOR_RGB2GRAY);\n",
    "        # t0 = time();\n",
    "        h = getHistogram(img, kmeans, M, L);\n",
    "        # t1 = time();\n",
    "        # print (t1-t0);\n",
    "        if h is None:\n",
    "            continue;\n",
    "        else:\n",
    "            X.append(h);\n",
    "            y.append(label);"
   ]
  },
  {
   "cell_type": "code",
   "execution_count": null,
   "metadata": {
    "collapsed": true
   },
   "outputs": [],
   "source": []
  }
 ],
 "metadata": {
  "kernelspec": {
   "display_name": "Python 2",
   "language": "python",
   "name": "python2"
  },
  "language_info": {
   "codemirror_mode": {
    "name": "ipython",
    "version": 2
   },
   "file_extension": ".py",
   "mimetype": "text/x-python",
   "name": "python",
   "nbconvert_exporter": "python",
   "pygments_lexer": "ipython2",
   "version": "2.7.3"
  }
 },
 "nbformat": 4,
 "nbformat_minor": 0
}
