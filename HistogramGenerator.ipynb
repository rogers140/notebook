{
 "cells": [
  {
   "cell_type": "code",
   "execution_count": 32,
   "metadata": {
    "collapsed": true
   },
   "outputs": [],
   "source": [
    "%reload_ext autoreload\n",
    "%autoreload 2\n",
    "\n",
    "import os\n",
    "import argparse\n",
    "import sys\n",
    "import time\n",
    "import cv2\n",
    "\n",
    "from joblib import Parallel, delayed\n",
    "\n",
    "sys.path.append(os.path.join(os.environ['GORDON_REPO_DIR'], 'utilities'))\n",
    "from utilities2015 import *\n",
    "\n",
    "from matplotlib.path import Path\n",
    "%matplotlib inline\n",
    "\n",
    "import scipy.ndimage as nd\n",
    "import scipy\n",
    "\n",
    "from skimage.feature import hog\n",
    "from skimage import data, color, exposure\n",
    "from sklearn.cluster import KMeans\n",
    "\n",
    "import random"
   ]
  },
  {
   "cell_type": "code",
   "execution_count": 33,
   "metadata": {
    "collapsed": false
   },
   "outputs": [],
   "source": [
    "vocabulary = np.load('/oasis/projects/nsf/csd395/ruogu/vocabulary/vocabulary.npy');\n",
    "M = vocabulary.shape[0];\n",
    "L = 3;\n",
    "saveDir = '/oasis/projects/nsf/csd395/ruogu/histogram/';\n",
    "dataDir = '/oasis/projects/nsf/csd395/yuncong/CSHL_data_patches/patches/';"
   ]
  },
  {
   "cell_type": "code",
   "execution_count": 34,
   "metadata": {
    "collapsed": true
   },
   "outputs": [],
   "source": [
    "kmeans = KMeans(init='random', n_clusters=M, n_init=10);\n",
    "kmeans.fit(vocabulary);"
   ]
  },
  {
   "cell_type": "code",
   "execution_count": 41,
   "metadata": {
    "collapsed": false
   },
   "outputs": [],
   "source": [
    "# Return the histogram of an image by applying SIFT + K-means + SPM\n",
    "# image: the input grayscaled image\n",
    "# kmeans: python kmeans object used to predict\n",
    "#             feature type of a new sift descriptor\n",
    "# M: number of channels (feature typs)\n",
    "# L: number of SPM levels.\n",
    "def getHistogram(image, kmeans, M, L):\n",
    "    x_size = image.shape[0];\n",
    "    y_size = image.shape[1];\n",
    "    # Get SIFT key points and descriptor.\n",
    "    sift = cv2.SIFT();\n",
    "    key_point, descriptor = sift.detectAndCompute(image, None);\n",
    "    \n",
    "    # Map key points with type.\n",
    "    if descriptor is None:\n",
    "        return None;\n",
    "    cluster_labels = kmeans.predict(descriptor);\n",
    "    \n",
    "    # Level 0\n",
    "    histogram = np.zeros(M);\n",
    "    weight_0 = 1.0 / (2**L);\n",
    "    for k in range(0, len(key_point)):\n",
    "        histogram[cluster_labels[k]] += 1;\n",
    "    histogram = histogram * weight_0;\n",
    "    # Other levels\n",
    "    for l in range(1, L):\n",
    "        grid_x = 1.0 * x_size / (2**l);\n",
    "        grid_y = 1.0 * y_size / (2**l);\n",
    "        weight = 1.0 / (2**(L - l + 1));\n",
    "        for i in range(0, (2**l)):\n",
    "            x_min = i * grid_x;\n",
    "            x_max = x_min + grid_x;\n",
    "            for j in range(0, (2**l)):\n",
    "                y_min = j * grid_y;\n",
    "                y_max = y_min + grid_y;\n",
    "                histogram_tmp = np.zeros(M);\n",
    "                # Count and update histogram from this grid.\n",
    "                for k in range(0, len(key_point)):\n",
    "                    if (x_min <= key_point[k].pt[0] <= x_max and\n",
    "                        y_min <= key_point[k].pt[1] <= y_max):\n",
    "                        histogram_tmp[cluster_labels[k]] += 1;\n",
    "                histogram_tmp = histogram_tmp * weight;\n",
    "                histogram = np.hstack((histogram, histogram_tmp));\n",
    "    return (histogram / len(key_point)); # Normalization"
   ]
  },
  {
   "cell_type": "code",
   "execution_count": 42,
   "metadata": {
    "collapsed": false
   },
   "outputs": [],
   "source": [
    "fileNames = os.listdir(dataDir);\n",
    "for fileName in fileNames:\n",
    "    # print fileName;\n",
    "    histograms = [];\n",
    "    images = np.load(dataDir + fileName);\n",
    "    for img in images:\n",
    "        img = cv2.cvtColor(img, cv2.COLOR_RGB2GRAY);\n",
    "        h = (img, kmeans, M, L);\n",
    "        if h is None:\n",
    "            continue;\n",
    "        else:\n",
    "            histograms.append(h);\n",
    "    np.save(saveDir + fileName[7:], histogram);"
   ]
  },
  {
   "cell_type": "code",
   "execution_count": null,
   "metadata": {
    "collapsed": true
   },
   "outputs": [],
   "source": []
  }
 ],
 "metadata": {
  "kernelspec": {
   "display_name": "Python 2",
   "language": "python",
   "name": "python2"
  },
  "language_info": {
   "codemirror_mode": {
    "name": "ipython",
    "version": 2
   },
   "file_extension": ".py",
   "mimetype": "text/x-python",
   "name": "python",
   "nbconvert_exporter": "python",
   "pygments_lexer": "ipython2",
   "version": "2.7.3"
  }
 },
 "nbformat": 4,
 "nbformat_minor": 0
}
